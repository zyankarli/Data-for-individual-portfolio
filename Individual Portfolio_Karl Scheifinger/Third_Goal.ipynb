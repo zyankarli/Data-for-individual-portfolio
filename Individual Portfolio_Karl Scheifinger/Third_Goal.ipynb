{
 "metadata": {
  "language_info": {
   "codemirror_mode": {
    "name": "ipython",
    "version": 3
   },
   "file_extension": ".py",
   "mimetype": "text/x-python",
   "name": "python",
   "nbconvert_exporter": "python",
   "pygments_lexer": "ipython3",
   "version": "3.8.8"
  },
  "orig_nbformat": 2,
  "kernelspec": {
   "name": "python388jvsc74a57bd0707a5b1a4a5ea3ec59dc95a60805d229947cb45f0531b316c1d7dc4904b44e4e",
   "display_name": "Python 3.8.8 64-bit ('NLTK_env': conda)"
  }
 },
 "nbformat": 4,
 "nbformat_minor": 2,
 "cells": [
  {
   "source": [
    "# Third Goal: (Analysis)\n",
    "<b>Goal</b>: Know and apply machine-learning techniques. <p>\n",
    "<b>Present</b>: I completed the course “Advanced Statistics” and only know that machine-learning requires training an algorithm.<p>\n",
    "<b>Measure</b>: At the end of the course, I want to be able to name and apply two different types of machine-learning methods in Python.\n"
   ],
   "cell_type": "markdown",
   "metadata": {}
  },
  {
   "source": [
    "Within this notebook, two machine-learning algorithms are applied: random forest and naive bayes. Both are classification algorithms, which means that they are used to predict the label of an object based on its attributes.\n",
    "\n",
    "### Random Forests\n",
    "The first machine-learning algorithm in this nootebook is the Random Forest algorithm. This machine-learning algorithm is meant to reduce the overfitting (creation of too complex strucutres) of single decision trees. Therefore, a Random Forest generates multiple decision trees which then vote in single vote system on the best-fitting label.\n",
    "### Naive Bayes\n",
    "The second machine-learning algorithm used in this notebook is the Naive Bayes algorithm, which uses the Bayes theorem of propability to assign labels to objects. <p>\n",
    "\n",
    "To apply machine learning algorithms,  datasets are split up into a learning set, which is used to train the algorithm, and a validation set, which is used to test the trained algorithm. Following the general rule of thumb, within this notebook 1/5 of the available data is used for validation.<p>\n",
    "This notebook includes two projects. Within each project, both machine-learning techniques are applied."
   ],
   "cell_type": "markdown",
   "metadata": {}
  },
  {
   "cell_type": "code",
   "execution_count": 1,
   "metadata": {},
   "outputs": [],
   "source": [
    "#Import modules\n",
    "import pandas as pd\n",
    "import numpy as np\n",
    "import nltk as nltk\n",
    "from nltk.corpus import stopwords\n",
    "import matplotlib.pyplot as plt\n",
    "import seaborn as sns\n",
    "from sklearn.preprocessing import LabelEncoder"
   ]
  },
  {
   "source": [
    "## Project 1: Sentiment Analysis\n",
    "The objective in this first project is to conduct a sentiment analysis on a twitter dataset. In the process, both machine-learning algorithms are applied to predict the sentiment of a tweet (i.e. positive or negative). The twitter dataset is accessible via Github.   "
   ],
   "cell_type": "markdown",
   "metadata": {}
  },
  {
   "cell_type": "code",
   "execution_count": 2,
   "metadata": {},
   "outputs": [
    {
     "output_type": "stream",
     "name": "stdout",
     "text": [
      "   id  label                                              tweet\n0   1      0   @user when a father is dysfunctional and is s...\n1   2      0  @user @user thanks for #lyft credit i can't us...\n2   3      0                                bihday your majesty\n3   4      0  #model   i love u take with u all the time in ...\n4   5      0             factsguide: society now    #motivation\n"
     ]
    }
   ],
   "source": [
    "#Import the data\n",
    "df = pd.read_csv('https://raw.githubusercontent.com/MohamedAfham/Twitter-Sentiment-Analysis-Supervised-Learning/master/Data/train_tweets.csv')\n",
    "print(df.head(5))"
   ]
  },
  {
   "cell_type": "code",
   "execution_count": 3,
   "metadata": {},
   "outputs": [
    {
     "output_type": "stream",
     "name": "stdout",
     "text": [
      "df.shape:  (31962, 3)\n"
     ]
    },
    {
     "output_type": "execute_result",
     "data": {
      "text/plain": [
       "<AxesSubplot:xlabel='label', ylabel='count'>"
      ]
     },
     "metadata": {},
     "execution_count": 3
    },
    {
     "output_type": "display_data",
     "data": {
      "text/plain": "<Figure size 432x288 with 1 Axes>",
      "image/svg+xml": "<?xml version=\"1.0\" encoding=\"utf-8\" standalone=\"no\"?>\r\n<!DOCTYPE svg PUBLIC \"-//W3C//DTD SVG 1.1//EN\"\r\n  \"http://www.w3.org/Graphics/SVG/1.1/DTD/svg11.dtd\">\r\n<!-- Created with matplotlib (https://matplotlib.org/) -->\r\n<svg height=\"262.19625pt\" version=\"1.1\" viewBox=\"0 0 401.690625 262.19625\" width=\"401.690625pt\" xmlns=\"http://www.w3.org/2000/svg\" xmlns:xlink=\"http://www.w3.org/1999/xlink\">\r\n <metadata>\r\n  <rdf:RDF xmlns:cc=\"http://creativecommons.org/ns#\" xmlns:dc=\"http://purl.org/dc/elements/1.1/\" xmlns:rdf=\"http://www.w3.org/1999/02/22-rdf-syntax-ns#\">\r\n   <cc:Work>\r\n    <dc:type rdf:resource=\"http://purl.org/dc/dcmitype/StillImage\"/>\r\n    <dc:date>2021-05-04T23:13:42.332744</dc:date>\r\n    <dc:format>image/svg+xml</dc:format>\r\n    <dc:creator>\r\n     <cc:Agent>\r\n      <dc:title>Matplotlib v3.3.4, https://matplotlib.org/</dc:title>\r\n     </cc:Agent>\r\n    </dc:creator>\r\n   </cc:Work>\r\n  </rdf:RDF>\r\n </metadata>\r\n <defs>\r\n  <style type=\"text/css\">*{stroke-linecap:butt;stroke-linejoin:round;}</style>\r\n </defs>\r\n <g id=\"figure_1\">\r\n  <g id=\"patch_1\">\r\n   <path d=\"M 0 262.19625 \r\nL 401.690625 262.19625 \r\nL 401.690625 0 \r\nL 0 0 \r\nz\r\n\" style=\"fill:none;\"/>\r\n  </g>\r\n  <g id=\"axes_1\">\r\n   <g id=\"patch_2\">\r\n    <path d=\"M 59.690625 224.64 \r\nL 394.490625 224.64 \r\nL 394.490625 7.2 \r\nL 59.690625 7.2 \r\nz\r\n\" style=\"fill:#ffffff;\"/>\r\n   </g>\r\n   <g id=\"patch_3\">\r\n    <path clip-path=\"url(#pe90a414501)\" d=\"M 76.430625 224.64 \r\nL 210.350625 224.64 \r\nL 210.350625 17.554286 \r\nL 76.430625 17.554286 \r\nz\r\n\" style=\"fill:#3274a1;\"/>\r\n   </g>\r\n   <g id=\"patch_4\">\r\n    <path clip-path=\"url(#pe90a414501)\" d=\"M 243.830625 224.64 \r\nL 377.750625 224.64 \r\nL 377.750625 209.017989 \r\nL 243.830625 209.017989 \r\nz\r\n\" style=\"fill:#e1812c;\"/>\r\n   </g>\r\n   <g id=\"matplotlib.axis_1\">\r\n    <g id=\"xtick_1\">\r\n     <g id=\"line2d_1\">\r\n      <defs>\r\n       <path d=\"M 0 0 \r\nL 0 3.5 \r\n\" id=\"m381f24f59f\" style=\"stroke:#000000;stroke-width:0.8;\"/>\r\n      </defs>\r\n      <g>\r\n       <use style=\"stroke:#000000;stroke-width:0.8;\" x=\"143.390625\" xlink:href=\"#m381f24f59f\" y=\"224.64\"/>\r\n      </g>\r\n     </g>\r\n     <g id=\"text_1\">\r\n      <!-- 0 -->\r\n      <g transform=\"translate(140.209375 239.238437)scale(0.1 -0.1)\">\r\n       <defs>\r\n        <path d=\"M 31.78125 66.40625 \r\nQ 24.171875 66.40625 20.328125 58.90625 \r\nQ 16.5 51.421875 16.5 36.375 \r\nQ 16.5 21.390625 20.328125 13.890625 \r\nQ 24.171875 6.390625 31.78125 6.390625 \r\nQ 39.453125 6.390625 43.28125 13.890625 \r\nQ 47.125 21.390625 47.125 36.375 \r\nQ 47.125 51.421875 43.28125 58.90625 \r\nQ 39.453125 66.40625 31.78125 66.40625 \r\nz\r\nM 31.78125 74.21875 \r\nQ 44.046875 74.21875 50.515625 64.515625 \r\nQ 56.984375 54.828125 56.984375 36.375 \r\nQ 56.984375 17.96875 50.515625 8.265625 \r\nQ 44.046875 -1.421875 31.78125 -1.421875 \r\nQ 19.53125 -1.421875 13.0625 8.265625 \r\nQ 6.59375 17.96875 6.59375 36.375 \r\nQ 6.59375 54.828125 13.0625 64.515625 \r\nQ 19.53125 74.21875 31.78125 74.21875 \r\nz\r\n\" id=\"DejaVuSans-48\"/>\r\n       </defs>\r\n       <use xlink:href=\"#DejaVuSans-48\"/>\r\n      </g>\r\n     </g>\r\n    </g>\r\n    <g id=\"xtick_2\">\r\n     <g id=\"line2d_2\">\r\n      <g>\r\n       <use style=\"stroke:#000000;stroke-width:0.8;\" x=\"310.790625\" xlink:href=\"#m381f24f59f\" y=\"224.64\"/>\r\n      </g>\r\n     </g>\r\n     <g id=\"text_2\">\r\n      <!-- 1 -->\r\n      <g transform=\"translate(307.609375 239.238437)scale(0.1 -0.1)\">\r\n       <defs>\r\n        <path d=\"M 12.40625 8.296875 \r\nL 28.515625 8.296875 \r\nL 28.515625 63.921875 \r\nL 10.984375 60.40625 \r\nL 10.984375 69.390625 \r\nL 28.421875 72.90625 \r\nL 38.28125 72.90625 \r\nL 38.28125 8.296875 \r\nL 54.390625 8.296875 \r\nL 54.390625 0 \r\nL 12.40625 0 \r\nz\r\n\" id=\"DejaVuSans-49\"/>\r\n       </defs>\r\n       <use xlink:href=\"#DejaVuSans-49\"/>\r\n      </g>\r\n     </g>\r\n    </g>\r\n    <g id=\"text_3\">\r\n     <!-- label -->\r\n     <g transform=\"translate(214.997656 252.916562)scale(0.1 -0.1)\">\r\n      <defs>\r\n       <path d=\"M 9.421875 75.984375 \r\nL 18.40625 75.984375 \r\nL 18.40625 0 \r\nL 9.421875 0 \r\nz\r\n\" id=\"DejaVuSans-108\"/>\r\n       <path d=\"M 34.28125 27.484375 \r\nQ 23.390625 27.484375 19.1875 25 \r\nQ 14.984375 22.515625 14.984375 16.5 \r\nQ 14.984375 11.71875 18.140625 8.90625 \r\nQ 21.296875 6.109375 26.703125 6.109375 \r\nQ 34.1875 6.109375 38.703125 11.40625 \r\nQ 43.21875 16.703125 43.21875 25.484375 \r\nL 43.21875 27.484375 \r\nz\r\nM 52.203125 31.203125 \r\nL 52.203125 0 \r\nL 43.21875 0 \r\nL 43.21875 8.296875 \r\nQ 40.140625 3.328125 35.546875 0.953125 \r\nQ 30.953125 -1.421875 24.3125 -1.421875 \r\nQ 15.921875 -1.421875 10.953125 3.296875 \r\nQ 6 8.015625 6 15.921875 \r\nQ 6 25.140625 12.171875 29.828125 \r\nQ 18.359375 34.515625 30.609375 34.515625 \r\nL 43.21875 34.515625 \r\nL 43.21875 35.40625 \r\nQ 43.21875 41.609375 39.140625 45 \r\nQ 35.0625 48.390625 27.6875 48.390625 \r\nQ 23 48.390625 18.546875 47.265625 \r\nQ 14.109375 46.140625 10.015625 43.890625 \r\nL 10.015625 52.203125 \r\nQ 14.9375 54.109375 19.578125 55.046875 \r\nQ 24.21875 56 28.609375 56 \r\nQ 40.484375 56 46.34375 49.84375 \r\nQ 52.203125 43.703125 52.203125 31.203125 \r\nz\r\n\" id=\"DejaVuSans-97\"/>\r\n       <path d=\"M 48.6875 27.296875 \r\nQ 48.6875 37.203125 44.609375 42.84375 \r\nQ 40.53125 48.484375 33.40625 48.484375 \r\nQ 26.265625 48.484375 22.1875 42.84375 \r\nQ 18.109375 37.203125 18.109375 27.296875 \r\nQ 18.109375 17.390625 22.1875 11.75 \r\nQ 26.265625 6.109375 33.40625 6.109375 \r\nQ 40.53125 6.109375 44.609375 11.75 \r\nQ 48.6875 17.390625 48.6875 27.296875 \r\nz\r\nM 18.109375 46.390625 \r\nQ 20.953125 51.265625 25.265625 53.625 \r\nQ 29.59375 56 35.59375 56 \r\nQ 45.5625 56 51.78125 48.09375 \r\nQ 58.015625 40.1875 58.015625 27.296875 \r\nQ 58.015625 14.40625 51.78125 6.484375 \r\nQ 45.5625 -1.421875 35.59375 -1.421875 \r\nQ 29.59375 -1.421875 25.265625 0.953125 \r\nQ 20.953125 3.328125 18.109375 8.203125 \r\nL 18.109375 0 \r\nL 9.078125 0 \r\nL 9.078125 75.984375 \r\nL 18.109375 75.984375 \r\nz\r\n\" id=\"DejaVuSans-98\"/>\r\n       <path d=\"M 56.203125 29.59375 \r\nL 56.203125 25.203125 \r\nL 14.890625 25.203125 \r\nQ 15.484375 15.921875 20.484375 11.0625 \r\nQ 25.484375 6.203125 34.421875 6.203125 \r\nQ 39.59375 6.203125 44.453125 7.46875 \r\nQ 49.3125 8.734375 54.109375 11.28125 \r\nL 54.109375 2.78125 \r\nQ 49.265625 0.734375 44.1875 -0.34375 \r\nQ 39.109375 -1.421875 33.890625 -1.421875 \r\nQ 20.796875 -1.421875 13.15625 6.1875 \r\nQ 5.515625 13.8125 5.515625 26.8125 \r\nQ 5.515625 40.234375 12.765625 48.109375 \r\nQ 20.015625 56 32.328125 56 \r\nQ 43.359375 56 49.78125 48.890625 \r\nQ 56.203125 41.796875 56.203125 29.59375 \r\nz\r\nM 47.21875 32.234375 \r\nQ 47.125 39.59375 43.09375 43.984375 \r\nQ 39.0625 48.390625 32.421875 48.390625 \r\nQ 24.90625 48.390625 20.390625 44.140625 \r\nQ 15.875 39.890625 15.1875 32.171875 \r\nz\r\n\" id=\"DejaVuSans-101\"/>\r\n      </defs>\r\n      <use xlink:href=\"#DejaVuSans-108\"/>\r\n      <use x=\"27.783203\" xlink:href=\"#DejaVuSans-97\"/>\r\n      <use x=\"89.0625\" xlink:href=\"#DejaVuSans-98\"/>\r\n      <use x=\"152.539062\" xlink:href=\"#DejaVuSans-101\"/>\r\n      <use x=\"214.0625\" xlink:href=\"#DejaVuSans-108\"/>\r\n     </g>\r\n    </g>\r\n   </g>\r\n   <g id=\"matplotlib.axis_2\">\r\n    <g id=\"ytick_1\">\r\n     <g id=\"line2d_3\">\r\n      <defs>\r\n       <path d=\"M 0 0 \r\nL -3.5 0 \r\n\" id=\"mf8942584a1\" style=\"stroke:#000000;stroke-width:0.8;\"/>\r\n      </defs>\r\n      <g>\r\n       <use style=\"stroke:#000000;stroke-width:0.8;\" x=\"59.690625\" xlink:href=\"#mf8942584a1\" y=\"224.64\"/>\r\n      </g>\r\n     </g>\r\n     <g id=\"text_4\">\r\n      <!-- 0 -->\r\n      <g transform=\"translate(46.328125 228.439219)scale(0.1 -0.1)\">\r\n       <use xlink:href=\"#DejaVuSans-48\"/>\r\n      </g>\r\n     </g>\r\n    </g>\r\n    <g id=\"ytick_2\">\r\n     <g id=\"line2d_4\">\r\n      <g>\r\n       <use style=\"stroke:#000000;stroke-width:0.8;\" x=\"59.690625\" xlink:href=\"#mf8942584a1\" y=\"189.800546\"/>\r\n      </g>\r\n     </g>\r\n     <g id=\"text_5\">\r\n      <!-- 5000 -->\r\n      <g transform=\"translate(27.240625 193.599765)scale(0.1 -0.1)\">\r\n       <defs>\r\n        <path d=\"M 10.796875 72.90625 \r\nL 49.515625 72.90625 \r\nL 49.515625 64.59375 \r\nL 19.828125 64.59375 \r\nL 19.828125 46.734375 \r\nQ 21.96875 47.46875 24.109375 47.828125 \r\nQ 26.265625 48.1875 28.421875 48.1875 \r\nQ 40.625 48.1875 47.75 41.5 \r\nQ 54.890625 34.8125 54.890625 23.390625 \r\nQ 54.890625 11.625 47.5625 5.09375 \r\nQ 40.234375 -1.421875 26.90625 -1.421875 \r\nQ 22.3125 -1.421875 17.546875 -0.640625 \r\nQ 12.796875 0.140625 7.71875 1.703125 \r\nL 7.71875 11.625 \r\nQ 12.109375 9.234375 16.796875 8.0625 \r\nQ 21.484375 6.890625 26.703125 6.890625 \r\nQ 35.15625 6.890625 40.078125 11.328125 \r\nQ 45.015625 15.765625 45.015625 23.390625 \r\nQ 45.015625 31 40.078125 35.4375 \r\nQ 35.15625 39.890625 26.703125 39.890625 \r\nQ 22.75 39.890625 18.8125 39.015625 \r\nQ 14.890625 38.140625 10.796875 36.28125 \r\nz\r\n\" id=\"DejaVuSans-53\"/>\r\n       </defs>\r\n       <use xlink:href=\"#DejaVuSans-53\"/>\r\n       <use x=\"63.623047\" xlink:href=\"#DejaVuSans-48\"/>\r\n       <use x=\"127.246094\" xlink:href=\"#DejaVuSans-48\"/>\r\n       <use x=\"190.869141\" xlink:href=\"#DejaVuSans-48\"/>\r\n      </g>\r\n     </g>\r\n    </g>\r\n    <g id=\"ytick_3\">\r\n     <g id=\"line2d_5\">\r\n      <g>\r\n       <use style=\"stroke:#000000;stroke-width:0.8;\" x=\"59.690625\" xlink:href=\"#mf8942584a1\" y=\"154.961092\"/>\r\n      </g>\r\n     </g>\r\n     <g id=\"text_6\">\r\n      <!-- 10000 -->\r\n      <g transform=\"translate(20.878125 158.760311)scale(0.1 -0.1)\">\r\n       <use xlink:href=\"#DejaVuSans-49\"/>\r\n       <use x=\"63.623047\" xlink:href=\"#DejaVuSans-48\"/>\r\n       <use x=\"127.246094\" xlink:href=\"#DejaVuSans-48\"/>\r\n       <use x=\"190.869141\" xlink:href=\"#DejaVuSans-48\"/>\r\n       <use x=\"254.492188\" xlink:href=\"#DejaVuSans-48\"/>\r\n      </g>\r\n     </g>\r\n    </g>\r\n    <g id=\"ytick_4\">\r\n     <g id=\"line2d_6\">\r\n      <g>\r\n       <use style=\"stroke:#000000;stroke-width:0.8;\" x=\"59.690625\" xlink:href=\"#mf8942584a1\" y=\"120.121638\"/>\r\n      </g>\r\n     </g>\r\n     <g id=\"text_7\">\r\n      <!-- 15000 -->\r\n      <g transform=\"translate(20.878125 123.920857)scale(0.1 -0.1)\">\r\n       <use xlink:href=\"#DejaVuSans-49\"/>\r\n       <use x=\"63.623047\" xlink:href=\"#DejaVuSans-53\"/>\r\n       <use x=\"127.246094\" xlink:href=\"#DejaVuSans-48\"/>\r\n       <use x=\"190.869141\" xlink:href=\"#DejaVuSans-48\"/>\r\n       <use x=\"254.492188\" xlink:href=\"#DejaVuSans-48\"/>\r\n      </g>\r\n     </g>\r\n    </g>\r\n    <g id=\"ytick_5\">\r\n     <g id=\"line2d_7\">\r\n      <g>\r\n       <use style=\"stroke:#000000;stroke-width:0.8;\" x=\"59.690625\" xlink:href=\"#mf8942584a1\" y=\"85.282184\"/>\r\n      </g>\r\n     </g>\r\n     <g id=\"text_8\">\r\n      <!-- 20000 -->\r\n      <g transform=\"translate(20.878125 89.081403)scale(0.1 -0.1)\">\r\n       <defs>\r\n        <path d=\"M 19.1875 8.296875 \r\nL 53.609375 8.296875 \r\nL 53.609375 0 \r\nL 7.328125 0 \r\nL 7.328125 8.296875 \r\nQ 12.9375 14.109375 22.625 23.890625 \r\nQ 32.328125 33.6875 34.8125 36.53125 \r\nQ 39.546875 41.84375 41.421875 45.53125 \r\nQ 43.3125 49.21875 43.3125 52.78125 \r\nQ 43.3125 58.59375 39.234375 62.25 \r\nQ 35.15625 65.921875 28.609375 65.921875 \r\nQ 23.96875 65.921875 18.8125 64.3125 \r\nQ 13.671875 62.703125 7.8125 59.421875 \r\nL 7.8125 69.390625 \r\nQ 13.765625 71.78125 18.9375 73 \r\nQ 24.125 74.21875 28.421875 74.21875 \r\nQ 39.75 74.21875 46.484375 68.546875 \r\nQ 53.21875 62.890625 53.21875 53.421875 \r\nQ 53.21875 48.921875 51.53125 44.890625 \r\nQ 49.859375 40.875 45.40625 35.40625 \r\nQ 44.1875 33.984375 37.640625 27.21875 \r\nQ 31.109375 20.453125 19.1875 8.296875 \r\nz\r\n\" id=\"DejaVuSans-50\"/>\r\n       </defs>\r\n       <use xlink:href=\"#DejaVuSans-50\"/>\r\n       <use x=\"63.623047\" xlink:href=\"#DejaVuSans-48\"/>\r\n       <use x=\"127.246094\" xlink:href=\"#DejaVuSans-48\"/>\r\n       <use x=\"190.869141\" xlink:href=\"#DejaVuSans-48\"/>\r\n       <use x=\"254.492188\" xlink:href=\"#DejaVuSans-48\"/>\r\n      </g>\r\n     </g>\r\n    </g>\r\n    <g id=\"ytick_6\">\r\n     <g id=\"line2d_8\">\r\n      <g>\r\n       <use style=\"stroke:#000000;stroke-width:0.8;\" x=\"59.690625\" xlink:href=\"#mf8942584a1\" y=\"50.44273\"/>\r\n      </g>\r\n     </g>\r\n     <g id=\"text_9\">\r\n      <!-- 25000 -->\r\n      <g transform=\"translate(20.878125 54.241949)scale(0.1 -0.1)\">\r\n       <use xlink:href=\"#DejaVuSans-50\"/>\r\n       <use x=\"63.623047\" xlink:href=\"#DejaVuSans-53\"/>\r\n       <use x=\"127.246094\" xlink:href=\"#DejaVuSans-48\"/>\r\n       <use x=\"190.869141\" xlink:href=\"#DejaVuSans-48\"/>\r\n       <use x=\"254.492188\" xlink:href=\"#DejaVuSans-48\"/>\r\n      </g>\r\n     </g>\r\n    </g>\r\n    <g id=\"ytick_7\">\r\n     <g id=\"line2d_9\">\r\n      <g>\r\n       <use style=\"stroke:#000000;stroke-width:0.8;\" x=\"59.690625\" xlink:href=\"#mf8942584a1\" y=\"15.603276\"/>\r\n      </g>\r\n     </g>\r\n     <g id=\"text_10\">\r\n      <!-- 30000 -->\r\n      <g transform=\"translate(20.878125 19.402495)scale(0.1 -0.1)\">\r\n       <defs>\r\n        <path d=\"M 40.578125 39.3125 \r\nQ 47.65625 37.796875 51.625 33 \r\nQ 55.609375 28.21875 55.609375 21.1875 \r\nQ 55.609375 10.40625 48.1875 4.484375 \r\nQ 40.765625 -1.421875 27.09375 -1.421875 \r\nQ 22.515625 -1.421875 17.65625 -0.515625 \r\nQ 12.796875 0.390625 7.625 2.203125 \r\nL 7.625 11.71875 \r\nQ 11.71875 9.328125 16.59375 8.109375 \r\nQ 21.484375 6.890625 26.8125 6.890625 \r\nQ 36.078125 6.890625 40.9375 10.546875 \r\nQ 45.796875 14.203125 45.796875 21.1875 \r\nQ 45.796875 27.640625 41.28125 31.265625 \r\nQ 36.765625 34.90625 28.71875 34.90625 \r\nL 20.21875 34.90625 \r\nL 20.21875 43.015625 \r\nL 29.109375 43.015625 \r\nQ 36.375 43.015625 40.234375 45.921875 \r\nQ 44.09375 48.828125 44.09375 54.296875 \r\nQ 44.09375 59.90625 40.109375 62.90625 \r\nQ 36.140625 65.921875 28.71875 65.921875 \r\nQ 24.65625 65.921875 20.015625 65.03125 \r\nQ 15.375 64.15625 9.8125 62.3125 \r\nL 9.8125 71.09375 \r\nQ 15.4375 72.65625 20.34375 73.4375 \r\nQ 25.25 74.21875 29.59375 74.21875 \r\nQ 40.828125 74.21875 47.359375 69.109375 \r\nQ 53.90625 64.015625 53.90625 55.328125 \r\nQ 53.90625 49.265625 50.4375 45.09375 \r\nQ 46.96875 40.921875 40.578125 39.3125 \r\nz\r\n\" id=\"DejaVuSans-51\"/>\r\n       </defs>\r\n       <use xlink:href=\"#DejaVuSans-51\"/>\r\n       <use x=\"63.623047\" xlink:href=\"#DejaVuSans-48\"/>\r\n       <use x=\"127.246094\" xlink:href=\"#DejaVuSans-48\"/>\r\n       <use x=\"190.869141\" xlink:href=\"#DejaVuSans-48\"/>\r\n       <use x=\"254.492188\" xlink:href=\"#DejaVuSans-48\"/>\r\n      </g>\r\n     </g>\r\n    </g>\r\n    <g id=\"text_11\">\r\n     <!-- count -->\r\n     <g transform=\"translate(14.798438 130.02625)rotate(-90)scale(0.1 -0.1)\">\r\n      <defs>\r\n       <path d=\"M 48.78125 52.59375 \r\nL 48.78125 44.1875 \r\nQ 44.96875 46.296875 41.140625 47.34375 \r\nQ 37.3125 48.390625 33.40625 48.390625 \r\nQ 24.65625 48.390625 19.8125 42.84375 \r\nQ 14.984375 37.3125 14.984375 27.296875 \r\nQ 14.984375 17.28125 19.8125 11.734375 \r\nQ 24.65625 6.203125 33.40625 6.203125 \r\nQ 37.3125 6.203125 41.140625 7.25 \r\nQ 44.96875 8.296875 48.78125 10.40625 \r\nL 48.78125 2.09375 \r\nQ 45.015625 0.34375 40.984375 -0.53125 \r\nQ 36.96875 -1.421875 32.421875 -1.421875 \r\nQ 20.0625 -1.421875 12.78125 6.34375 \r\nQ 5.515625 14.109375 5.515625 27.296875 \r\nQ 5.515625 40.671875 12.859375 48.328125 \r\nQ 20.21875 56 33.015625 56 \r\nQ 37.15625 56 41.109375 55.140625 \r\nQ 45.0625 54.296875 48.78125 52.59375 \r\nz\r\n\" id=\"DejaVuSans-99\"/>\r\n       <path d=\"M 30.609375 48.390625 \r\nQ 23.390625 48.390625 19.1875 42.75 \r\nQ 14.984375 37.109375 14.984375 27.296875 \r\nQ 14.984375 17.484375 19.15625 11.84375 \r\nQ 23.34375 6.203125 30.609375 6.203125 \r\nQ 37.796875 6.203125 41.984375 11.859375 \r\nQ 46.1875 17.53125 46.1875 27.296875 \r\nQ 46.1875 37.015625 41.984375 42.703125 \r\nQ 37.796875 48.390625 30.609375 48.390625 \r\nz\r\nM 30.609375 56 \r\nQ 42.328125 56 49.015625 48.375 \r\nQ 55.71875 40.765625 55.71875 27.296875 \r\nQ 55.71875 13.875 49.015625 6.21875 \r\nQ 42.328125 -1.421875 30.609375 -1.421875 \r\nQ 18.84375 -1.421875 12.171875 6.21875 \r\nQ 5.515625 13.875 5.515625 27.296875 \r\nQ 5.515625 40.765625 12.171875 48.375 \r\nQ 18.84375 56 30.609375 56 \r\nz\r\n\" id=\"DejaVuSans-111\"/>\r\n       <path d=\"M 8.5 21.578125 \r\nL 8.5 54.6875 \r\nL 17.484375 54.6875 \r\nL 17.484375 21.921875 \r\nQ 17.484375 14.15625 20.5 10.265625 \r\nQ 23.53125 6.390625 29.59375 6.390625 \r\nQ 36.859375 6.390625 41.078125 11.03125 \r\nQ 45.3125 15.671875 45.3125 23.6875 \r\nL 45.3125 54.6875 \r\nL 54.296875 54.6875 \r\nL 54.296875 0 \r\nL 45.3125 0 \r\nL 45.3125 8.40625 \r\nQ 42.046875 3.421875 37.71875 1 \r\nQ 33.40625 -1.421875 27.6875 -1.421875 \r\nQ 18.265625 -1.421875 13.375 4.4375 \r\nQ 8.5 10.296875 8.5 21.578125 \r\nz\r\nM 31.109375 56 \r\nz\r\n\" id=\"DejaVuSans-117\"/>\r\n       <path d=\"M 54.890625 33.015625 \r\nL 54.890625 0 \r\nL 45.90625 0 \r\nL 45.90625 32.71875 \r\nQ 45.90625 40.484375 42.875 44.328125 \r\nQ 39.84375 48.1875 33.796875 48.1875 \r\nQ 26.515625 48.1875 22.3125 43.546875 \r\nQ 18.109375 38.921875 18.109375 30.90625 \r\nL 18.109375 0 \r\nL 9.078125 0 \r\nL 9.078125 54.6875 \r\nL 18.109375 54.6875 \r\nL 18.109375 46.1875 \r\nQ 21.34375 51.125 25.703125 53.5625 \r\nQ 30.078125 56 35.796875 56 \r\nQ 45.21875 56 50.046875 50.171875 \r\nQ 54.890625 44.34375 54.890625 33.015625 \r\nz\r\n\" id=\"DejaVuSans-110\"/>\r\n       <path d=\"M 18.3125 70.21875 \r\nL 18.3125 54.6875 \r\nL 36.8125 54.6875 \r\nL 36.8125 47.703125 \r\nL 18.3125 47.703125 \r\nL 18.3125 18.015625 \r\nQ 18.3125 11.328125 20.140625 9.421875 \r\nQ 21.96875 7.515625 27.59375 7.515625 \r\nL 36.8125 7.515625 \r\nL 36.8125 0 \r\nL 27.59375 0 \r\nQ 17.1875 0 13.234375 3.875 \r\nQ 9.28125 7.765625 9.28125 18.015625 \r\nL 9.28125 47.703125 \r\nL 2.6875 47.703125 \r\nL 2.6875 54.6875 \r\nL 9.28125 54.6875 \r\nL 9.28125 70.21875 \r\nz\r\n\" id=\"DejaVuSans-116\"/>\r\n      </defs>\r\n      <use xlink:href=\"#DejaVuSans-99\"/>\r\n      <use x=\"54.980469\" xlink:href=\"#DejaVuSans-111\"/>\r\n      <use x=\"116.162109\" xlink:href=\"#DejaVuSans-117\"/>\r\n      <use x=\"179.541016\" xlink:href=\"#DejaVuSans-110\"/>\r\n      <use x=\"242.919922\" xlink:href=\"#DejaVuSans-116\"/>\r\n     </g>\r\n    </g>\r\n   </g>\r\n   <g id=\"patch_5\">\r\n    <path d=\"M 59.690625 224.64 \r\nL 59.690625 7.2 \r\n\" style=\"fill:none;stroke:#000000;stroke-linecap:square;stroke-linejoin:miter;stroke-width:0.8;\"/>\r\n   </g>\r\n   <g id=\"patch_6\">\r\n    <path d=\"M 394.490625 224.64 \r\nL 394.490625 7.2 \r\n\" style=\"fill:none;stroke:#000000;stroke-linecap:square;stroke-linejoin:miter;stroke-width:0.8;\"/>\r\n   </g>\r\n   <g id=\"patch_7\">\r\n    <path d=\"M 59.690625 224.64 \r\nL 394.490625 224.64 \r\n\" style=\"fill:none;stroke:#000000;stroke-linecap:square;stroke-linejoin:miter;stroke-width:0.8;\"/>\r\n   </g>\r\n   <g id=\"patch_8\">\r\n    <path d=\"M 59.690625 7.2 \r\nL 394.490625 7.2 \r\n\" style=\"fill:none;stroke:#000000;stroke-linecap:square;stroke-linejoin:miter;stroke-width:0.8;\"/>\r\n   </g>\r\n  </g>\r\n </g>\r\n <defs>\r\n  <clipPath id=\"pe90a414501\">\r\n   <rect height=\"217.44\" width=\"334.8\" x=\"59.690625\" y=\"7.2\"/>\r\n  </clipPath>\r\n </defs>\r\n</svg>\r\n",
      "image/png": "[encoded data removed]"
     },
     "metadata": {
      "needs_background": "light"
     }
    }
   ],
   "source": [
    "#Simple data exploration\n",
    "print('df.shape: ', df.shape)\n",
    "sns.countplot(x= 'label', data=df)"
   ]
  },
  {
   "source": [
    "This dataset includes more tweets than the dataset that group SOCIAL 2 used in its sentiment analysis. However, the dataset features a dispropotionate number of positiv tweets, which are indicated by a 0. Nevertheless, the dataset is already nicely structured, which facilitates the whole analysis. <p>\n",
    "In the following, the dataframe is cleaned, tokenised and split up into a matrix (X) containing the explanatory variables (i.e. the tweets) and a vector (y) containing the sentiment of each tweet."
   ],
   "cell_type": "markdown",
   "metadata": {}
  },
  {
   "cell_type": "code",
   "execution_count": 4,
   "metadata": {},
   "outputs": [],
   "source": [
    "#Data cleaning\n",
    "#Create a function that cleans each tweet from non-alphabetic characters and stopwords\n",
    "def clean_tweettext(text_col):\n",
    "    clean_text = ''\n",
    "    tokens =  nltk.word_tokenize(text_col)\n",
    "    clean_list = [w for w in tokens if w.isalpha() and w.lower() not in stopwords.words('english') and w != 'user']\n",
    "    \n",
    "    return ' '.join(map(str, clean_list))\n",
    "#Apply cleaning function - might take some time!\n",
    "df['tweet'] = df['tweet'].apply(clean_tweettext)"
   ]
  },
  {
   "cell_type": "code",
   "execution_count": 5,
   "metadata": {},
   "outputs": [
    {
     "output_type": "execute_result",
     "data": {
      "text/plain": [
       "   id  label                                              tweet\n",
       "0   1      0  father dysfunctional selfish drags kids dysfun...\n",
       "1   2      0  thanks lyft credit ca use cause offer wheelcha...\n",
       "2   3      0                                     bihday majesty\n",
       "3   4      0                           model love u take u time\n",
       "4   5      0                      factsguide society motivation"
      ],
      "text/html": "<div>\n<style scoped>\n    .dataframe tbody tr th:only-of-type {\n        vertical-align: middle;\n    }\n\n    .dataframe tbody tr th {\n        vertical-align: top;\n    }\n\n    .dataframe thead th {\n        text-align: right;\n    }\n</style>\n<table border=\"1\" class=\"dataframe\">\n  <thead>\n    <tr style=\"text-align: right;\">\n      <th></th>\n      <th>id</th>\n      <th>label</th>\n      <th>tweet</th>\n    </tr>\n  </thead>\n  <tbody>\n    <tr>\n      <th>0</th>\n      <td>1</td>\n      <td>0</td>\n      <td>father dysfunctional selfish drags kids dysfun...</td>\n    </tr>\n    <tr>\n      <th>1</th>\n      <td>2</td>\n      <td>0</td>\n      <td>thanks lyft credit ca use cause offer wheelcha...</td>\n    </tr>\n    <tr>\n      <th>2</th>\n      <td>3</td>\n      <td>0</td>\n      <td>bihday majesty</td>\n    </tr>\n    <tr>\n      <th>3</th>\n      <td>4</td>\n      <td>0</td>\n      <td>model love u take u time</td>\n    </tr>\n    <tr>\n      <th>4</th>\n      <td>5</td>\n      <td>0</td>\n      <td>factsguide society motivation</td>\n    </tr>\n  </tbody>\n</table>\n</div>"
     },
     "metadata": {},
     "execution_count": 5
    }
   ],
   "source": [
    "df.head()"
   ]
  },
  {
   "cell_type": "code",
   "execution_count": 6,
   "metadata": {},
   "outputs": [
    {
     "output_type": "execute_result",
     "data": {
      "text/plain": [
       "   id  label                                              tweet\n",
       "0   1      0  [father, dysfunctional, selfish, drags, kids, ...\n",
       "1   2      0  [thanks, lyft, credit, ca, use, cause, offer, ...\n",
       "2   3      0                                  [bihday, majesty]\n",
       "3   4      0                    [model, love, u, take, u, time]\n",
       "4   5      0                  [factsguide, society, motivation]"
      ],
      "text/html": "<div>\n<style scoped>\n    .dataframe tbody tr th:only-of-type {\n        vertical-align: middle;\n    }\n\n    .dataframe tbody tr th {\n        vertical-align: top;\n    }\n\n    .dataframe thead th {\n        text-align: right;\n    }\n</style>\n<table border=\"1\" class=\"dataframe\">\n  <thead>\n    <tr style=\"text-align: right;\">\n      <th></th>\n      <th>id</th>\n      <th>label</th>\n      <th>tweet</th>\n    </tr>\n  </thead>\n  <tbody>\n    <tr>\n      <th>0</th>\n      <td>1</td>\n      <td>0</td>\n      <td>[father, dysfunctional, selfish, drags, kids, ...</td>\n    </tr>\n    <tr>\n      <th>1</th>\n      <td>2</td>\n      <td>0</td>\n      <td>[thanks, lyft, credit, ca, use, cause, offer, ...</td>\n    </tr>\n    <tr>\n      <th>2</th>\n      <td>3</td>\n      <td>0</td>\n      <td>[bihday, majesty]</td>\n    </tr>\n    <tr>\n      <th>3</th>\n      <td>4</td>\n      <td>0</td>\n      <td>[model, love, u, take, u, time]</td>\n    </tr>\n    <tr>\n      <th>4</th>\n      <td>5</td>\n      <td>0</td>\n      <td>[factsguide, society, motivation]</td>\n    </tr>\n  </tbody>\n</table>\n</div>"
     },
     "metadata": {},
     "execution_count": 6
    }
   ],
   "source": [
    "#Tokenise the data\n",
    "df['tweet'] = df['tweet'].apply(nltk.word_tokenize)\n",
    "df.head()"
   ]
  },
  {
   "cell_type": "code",
   "execution_count": 7,
   "metadata": {},
   "outputs": [
    {
     "output_type": "stream",
     "name": "stdout",
     "text": [
      "0    [father, dysfunctional, selfish, drags, kids, ...\n1    [thanks, lyft, credit, ca, use, cause, offer, ...\n2                                    [bihday, majesty]\n3                      [model, love, u, take, u, time]\n4                    [factsguide, society, motivation]\nName: tweet, dtype: object\n"
     ]
    },
    {
     "output_type": "execute_result",
     "data": {
      "text/plain": [
       "0    0\n",
       "1    0\n",
       "2    0\n",
       "3    0\n",
       "4    0\n",
       "Name: label, dtype: int64"
      ]
     },
     "metadata": {},
     "execution_count": 7
    }
   ],
   "source": [
    "#Split dataframe into explanatory and predictor\n",
    "#Explanatory\n",
    "X = df['tweet']\n",
    "#Predictor\n",
    "y = df['label']\n",
    "print(X.head(5))\n",
    "y.head(5)"
   ]
  },
  {
   "source": [
    "So far so good. Unfortunately, at this point I came to realise that random forests can only interpret  numbers (int/float) and not strings. In order to solve this problem, I 'translate' each string in X into a number by using the sklearn LabelEncoder. Therefore, I firstly generate a large dictionary that includes a numeric translation for each word included in the tweets by fitting the LabelEncoder on a long string that contains all tweets. Secondly, the LabelEncoder algorithm is then applied on X to translate each word of each tweet into an integer."
   ],
   "cell_type": "markdown",
   "metadata": {}
  },
  {
   "cell_type": "code",
   "execution_count": 8,
   "metadata": {},
   "outputs": [
    {
     "output_type": "execute_result",
     "data": {
      "text/plain": [
       "LabelEncoder()"
      ]
     },
     "metadata": {},
     "execution_count": 8
    }
   ],
   "source": [
    "#Intitialise LabelEncoder\n",
    "le = LabelEncoder()\n",
    "\n",
    "#Create one long string with content\n",
    "long_string = []\n",
    "for list in X:\n",
    "    for text in list:\n",
    "        long_string.append(str(text))\n",
    "\n",
    "#Create dictionary by fitting le on long_string\n",
    "le.fit(long_string)"
   ]
  },
  {
   "source": [
    "Now the LabelEncoder is used to translate all strings in the 31962 tweets into a series of numbers, which the random forest algorithm is able to interpret. Because this process of translation requires a lot of time, I start with testing which function might be the fastest to do the job. Therefore, I write two functions - translate_to_digit and alternative -  to apply the LabelEncoder on X and then test their performance using the timeit module. In order to aviod running the test unintentionally, I format the code that executes the test as comments."
   ],
   "cell_type": "markdown",
   "metadata": {}
  },
  {
   "cell_type": "code",
   "execution_count": 9,
   "metadata": {},
   "outputs": [
    {
     "output_type": "stream",
     "name": "stdout",
     "text": [
      "OUTPUT: time required to translate 100 tweets [sec] \n translate_to_digit:  29.56325270000002 \n alternative:  30.70483009999998\n"
     ]
    }
   ],
   "source": [
    "#Fist possibility to translate X into numbers via LabelEncoder\n",
    "import timeit\n",
    "def translate_to_digit(li):\n",
    "    translation = []\n",
    "    for word in li: \n",
    "        translation.append(le.transform([word]))\n",
    "    return translation\n",
    "\n",
    "#Second possibility\n",
    "def alternative(li):\n",
    "    return [le.transform([x]) for x in li]\n",
    "\n",
    "#Create setup for timeit application\n",
    "mysetup = '''\n",
    "import pandas as pd\n",
    "from sklearn.preprocessing import LabelEncoder\n",
    "le = LabelEncoder()\n",
    "df = pd.read_csv('https://raw.githubusercontent.com/MohamedAfham/Twitter-Sentiment-Analysis-Supervised-Learning/master/Data/train_tweets.csv')\n",
    "X = df['tweet']\n",
    "import timeit\n",
    "def translate_to_digit(li):\n",
    "    translation = []\n",
    "    for word in li: \n",
    "        translation.append(le.transform([word]))\n",
    "    return translation\n",
    "def alternative(li):\n",
    "    return [le.transform([x]) for x in li]\n",
    "long_string = []\n",
    "for list in X:\n",
    "    for text in list:\n",
    "        long_string.append(str(text))\n",
    "\n",
    "long_string\n",
    "le.fit(long_string)\n",
    "'''\n",
    "mycode = '''\n",
    "X = X[0:10].apply(translate_to_digit)\n",
    "'''\n",
    "#Run first test\n",
    "# print('translate_to_digit: ', timeit.timeit(\n",
    "#    setup = mysetup,\n",
    "#    stmt = mycode, \n",
    "#    number = 100))\n",
    "\n",
    "mycode2 = '''\n",
    "X = X[0:10].apply(alternative)\n",
    "'''\n",
    "#Run second test\n",
    "#print('alternative: ',timeit.timeit(\n",
    "#    setup = mysetup,\n",
    "#    stmt = mycode2, \n",
    "#    number = 100))\n",
    "\n",
    "\n",
    "'''\n",
    "OUTPUT\n",
    "translate_to_digit:  29.56325270000002\n",
    "alternative:  30.70483009999998\n",
    "'''\n",
    "print('OUTPUT: time required to translate 100 tweets [sec]', '\\n','translate_to_digit:  29.56325270000002', '\\n', 'alternative:  30.70483009999998' )"
   ]
  },
  {
   "source": [
    "The experiment shows that the translate_to_digit function works slightly faster than the atlernative function. Therefore I decide to apply the first function on the whole matrix X. Assuming that the function is able to translate 100 tweets in 30 seconds, I estimate that the around 32.000 tweets require 9.600 seconds, which is equal to 160 minutes. In order to avoid conducting the same troublesome procedure twice, the translated matrix is converted into a dataframe, saved as a csv-file and then re-imported. "
   ],
   "cell_type": "markdown",
   "metadata": {}
  },
  {
   "cell_type": "code",
   "execution_count": 10,
   "metadata": {},
   "outputs": [],
   "source": [
    "#Translate whole X matrix into numbers\n",
    "#Should take about 2.5h\n",
    "#X_digit = X.apply(translate_to_digit)\n",
    "\n",
    "#Convert into dataframe, because random forest can't read lists/arrays\n",
    "#X_df = pd.DataFrame.from_records(X_digit)\n",
    "\n",
    "#Safe X_digit to csv so that there is no need to translate it again\n",
    "#X_df.to_csv('X_df_Translated.csv', mode = 'a', index = False, header = True)"
   ]
  },
  {
   "cell_type": "code",
   "execution_count": 11,
   "metadata": {},
   "outputs": [
    {
     "output_type": "stream",
     "name": "stderr",
     "text": [
      "C:\\Users\\schei\\anaconda3\\envs\\NLTK_env\\lib\\site-packages\\IPython\\core\\interactiveshell.py:3165: DtypeWarning: Columns (21,22,23,24,25,26,27,28,29,30,31,32,33,34,35,36) have mixed types.Specify dtype option on import or set low_memory=False.\n  has_raised = await self.run_ast_nodes(code_ast.body, cell_name,\n"
     ]
    },
    {
     "output_type": "execute_result",
     "data": {
      "text/plain": [
       "             0        1        2        3        4        5        6        7  \\\n",
       "0      [10554]   [9150]  [27450]   [8858]  [16846]   [9149]  [26689]      NaN   \n",
       "1      [30971]  [18668]   [6980]   [4570]  [32900]   [5066]  [22148]  [34109]   \n",
       "2       [3170]  [18845]      NaN      NaN      NaN      NaN      NaN      NaN   \n",
       "3      [20073]  [18367]  [32471]  [30450]  [32471]  [31501]      NaN      NaN   \n",
       "4      [10340]  [28706]  [20342]      NaN      NaN      NaN      NaN      NaN   \n",
       "...        ...      ...      ...      ...      ...      ...      ...      ...   \n",
       "31957   [1744]  [15915]  [35179]      NaN      NaN      NaN      NaN      NaN   \n",
       "31958  [27370]  [21529]  [32330]    [602]  [32232]  [34749]  [19051]  [12272]   \n",
       "31959  [17989]  [26798]  [28841]  [20159]  [20288]  [22613]  [34638]  [26798]   \n",
       "31960  [28106]  [30824]  [33007]   [4635]  [34804]   [6391]    [210]      NaN   \n",
       "31961  [30961]  [11330]      NaN      NaN      NaN      NaN      NaN      NaN   \n",
       "\n",
       "             8        9  ...   27   28   29   30   31   32   33   34   35   36  \n",
       "0          NaN      NaN  ...  NaN  NaN  NaN  NaN  NaN  NaN  NaN  NaN  NaN  NaN  \n",
       "1      [33023]  [23205]  ...  NaN  NaN  NaN  NaN  NaN  NaN  NaN  NaN  NaN  NaN  \n",
       "2          NaN      NaN  ...  NaN  NaN  NaN  NaN  NaN  NaN  NaN  NaN  NaN  NaN  \n",
       "3          NaN      NaN  ...  NaN  NaN  NaN  NaN  NaN  NaN  NaN  NaN  NaN  NaN  \n",
       "4          NaN      NaN  ...  NaN  NaN  NaN  NaN  NaN  NaN  NaN  NaN  NaN  NaN  \n",
       "...        ...      ...  ...  ...  ...  ...  ...  ...  ...  ...  ...  ...  ...  \n",
       "31957      NaN      NaN  ...  NaN  NaN  NaN  NaN  NaN  NaN  NaN  NaN  NaN  NaN  \n",
       "31958  [13992]  [17864]  ...  NaN  NaN  NaN  NaN  NaN  NaN  NaN  NaN  NaN  NaN  \n",
       "31959      NaN      NaN  ...  NaN  NaN  NaN  NaN  NaN  NaN  NaN  NaN  NaN  NaN  \n",
       "31960      NaN      NaN  ...  NaN  NaN  NaN  NaN  NaN  NaN  NaN  NaN  NaN  NaN  \n",
       "31961      NaN      NaN  ...  NaN  NaN  NaN  NaN  NaN  NaN  NaN  NaN  NaN  NaN  \n",
       "\n",
       "[31962 rows x 37 columns]"
      ],
      "text/html": "<div>\n<style scoped>\n    .dataframe tbody tr th:only-of-type {\n        vertical-align: middle;\n    }\n\n    .dataframe tbody tr th {\n        vertical-align: top;\n    }\n\n    .dataframe thead th {\n        text-align: right;\n    }\n</style>\n<table border=\"1\" class=\"dataframe\">\n  <thead>\n    <tr style=\"text-align: right;\">\n      <th></th>\n      <th>0</th>\n      <th>1</th>\n      <th>2</th>\n      <th>3</th>\n      <th>4</th>\n      <th>5</th>\n      <th>6</th>\n      <th>7</th>\n      <th>8</th>\n      <th>9</th>\n      <th>...</th>\n      <th>27</th>\n      <th>28</th>\n      <th>29</th>\n      <th>30</th>\n      <th>31</th>\n      <th>32</th>\n      <th>33</th>\n      <th>34</th>\n      <th>35</th>\n      <th>36</th>\n    </tr>\n  </thead>\n  <tbody>\n    <tr>\n      <th>0</th>\n      <td>[10554]</td>\n      <td>[9150]</td>\n      <td>[27450]</td>\n      <td>[8858]</td>\n      <td>[16846]</td>\n      <td>[9149]</td>\n      <td>[26689]</td>\n      <td>NaN</td>\n      <td>NaN</td>\n      <td>NaN</td>\n      <td>...</td>\n      <td>NaN</td>\n      <td>NaN</td>\n      <td>NaN</td>\n      <td>NaN</td>\n      <td>NaN</td>\n      <td>NaN</td>\n      <td>NaN</td>\n      <td>NaN</td>\n      <td>NaN</td>\n      <td>NaN</td>\n    </tr>\n    <tr>\n      <th>1</th>\n      <td>[30971]</td>\n      <td>[18668]</td>\n      <td>[6980]</td>\n      <td>[4570]</td>\n      <td>[32900]</td>\n      <td>[5066]</td>\n      <td>[22148]</td>\n      <td>[34109]</td>\n      <td>[33023]</td>\n      <td>[23205]</td>\n      <td>...</td>\n      <td>NaN</td>\n      <td>NaN</td>\n      <td>NaN</td>\n      <td>NaN</td>\n      <td>NaN</td>\n      <td>NaN</td>\n      <td>NaN</td>\n      <td>NaN</td>\n      <td>NaN</td>\n      <td>NaN</td>\n    </tr>\n    <tr>\n      <th>2</th>\n      <td>[3170]</td>\n      <td>[18845]</td>\n      <td>NaN</td>\n      <td>NaN</td>\n      <td>NaN</td>\n      <td>NaN</td>\n      <td>NaN</td>\n      <td>NaN</td>\n      <td>NaN</td>\n      <td>NaN</td>\n      <td>...</td>\n      <td>NaN</td>\n      <td>NaN</td>\n      <td>NaN</td>\n      <td>NaN</td>\n      <td>NaN</td>\n      <td>NaN</td>\n      <td>NaN</td>\n      <td>NaN</td>\n      <td>NaN</td>\n      <td>NaN</td>\n    </tr>\n    <tr>\n      <th>3</th>\n      <td>[20073]</td>\n      <td>[18367]</td>\n      <td>[32471]</td>\n      <td>[30450]</td>\n      <td>[32471]</td>\n      <td>[31501]</td>\n      <td>NaN</td>\n      <td>NaN</td>\n      <td>NaN</td>\n      <td>NaN</td>\n      <td>...</td>\n      <td>NaN</td>\n      <td>NaN</td>\n      <td>NaN</td>\n      <td>NaN</td>\n      <td>NaN</td>\n      <td>NaN</td>\n      <td>NaN</td>\n      <td>NaN</td>\n      <td>NaN</td>\n      <td>NaN</td>\n    </tr>\n    <tr>\n      <th>4</th>\n      <td>[10340]</td>\n      <td>[28706]</td>\n      <td>[20342]</td>\n      <td>NaN</td>\n      <td>NaN</td>\n      <td>NaN</td>\n      <td>NaN</td>\n      <td>NaN</td>\n      <td>NaN</td>\n      <td>NaN</td>\n      <td>...</td>\n      <td>NaN</td>\n      <td>NaN</td>\n      <td>NaN</td>\n      <td>NaN</td>\n      <td>NaN</td>\n      <td>NaN</td>\n      <td>NaN</td>\n      <td>NaN</td>\n      <td>NaN</td>\n      <td>NaN</td>\n    </tr>\n    <tr>\n      <th>...</th>\n      <td>...</td>\n      <td>...</td>\n      <td>...</td>\n      <td>...</td>\n      <td>...</td>\n      <td>...</td>\n      <td>...</td>\n      <td>...</td>\n      <td>...</td>\n      <td>...</td>\n      <td>...</td>\n      <td>...</td>\n      <td>...</td>\n      <td>...</td>\n      <td>...</td>\n      <td>...</td>\n      <td>...</td>\n      <td>...</td>\n      <td>...</td>\n      <td>...</td>\n      <td>...</td>\n    </tr>\n    <tr>\n      <th>31957</th>\n      <td>[1744]</td>\n      <td>[15915]</td>\n      <td>[35179]</td>\n      <td>NaN</td>\n      <td>NaN</td>\n      <td>NaN</td>\n      <td>NaN</td>\n      <td>NaN</td>\n      <td>NaN</td>\n      <td>NaN</td>\n      <td>...</td>\n      <td>NaN</td>\n      <td>NaN</td>\n      <td>NaN</td>\n      <td>NaN</td>\n      <td>NaN</td>\n      <td>NaN</td>\n      <td>NaN</td>\n      <td>NaN</td>\n      <td>NaN</td>\n      <td>NaN</td>\n    </tr>\n    <tr>\n      <th>31958</th>\n      <td>[27370]</td>\n      <td>[21529]</td>\n      <td>[32330]</td>\n      <td>[602]</td>\n      <td>[32232]</td>\n      <td>[34749]</td>\n      <td>[19051]</td>\n      <td>[12272]</td>\n      <td>[13992]</td>\n      <td>[17864]</td>\n      <td>...</td>\n      <td>NaN</td>\n      <td>NaN</td>\n      <td>NaN</td>\n      <td>NaN</td>\n      <td>NaN</td>\n      <td>NaN</td>\n      <td>NaN</td>\n      <td>NaN</td>\n      <td>NaN</td>\n      <td>NaN</td>\n    </tr>\n    <tr>\n      <th>31959</th>\n      <td>[17989]</td>\n      <td>[26798]</td>\n      <td>[28841]</td>\n      <td>[20159]</td>\n      <td>[20288]</td>\n      <td>[22613]</td>\n      <td>[34638]</td>\n      <td>[26798]</td>\n      <td>NaN</td>\n      <td>NaN</td>\n      <td>...</td>\n      <td>NaN</td>\n      <td>NaN</td>\n      <td>NaN</td>\n      <td>NaN</td>\n      <td>NaN</td>\n      <td>NaN</td>\n      <td>NaN</td>\n      <td>NaN</td>\n      <td>NaN</td>\n      <td>NaN</td>\n    </tr>\n    <tr>\n      <th>31960</th>\n      <td>[28106]</td>\n      <td>[30824]</td>\n      <td>[33007]</td>\n      <td>[4635]</td>\n      <td>[34804]</td>\n      <td>[6391]</td>\n      <td>[210]</td>\n      <td>NaN</td>\n      <td>NaN</td>\n      <td>NaN</td>\n      <td>...</td>\n      <td>NaN</td>\n      <td>NaN</td>\n      <td>NaN</td>\n      <td>NaN</td>\n      <td>NaN</td>\n      <td>NaN</td>\n      <td>NaN</td>\n      <td>NaN</td>\n      <td>NaN</td>\n      <td>NaN</td>\n    </tr>\n    <tr>\n      <th>31961</th>\n      <td>[30961]</td>\n      <td>[11330]</td>\n      <td>NaN</td>\n      <td>NaN</td>\n      <td>NaN</td>\n      <td>NaN</td>\n      <td>NaN</td>\n      <td>NaN</td>\n      <td>NaN</td>\n      <td>NaN</td>\n      <td>...</td>\n      <td>NaN</td>\n      <td>NaN</td>\n      <td>NaN</td>\n      <td>NaN</td>\n      <td>NaN</td>\n      <td>NaN</td>\n      <td>NaN</td>\n      <td>NaN</td>\n      <td>NaN</td>\n      <td>NaN</td>\n    </tr>\n  </tbody>\n</table>\n<p>31962 rows × 37 columns</p>\n</div>"
     },
     "metadata": {},
     "execution_count": 11
    }
   ],
   "source": [
    "#Re-import translated matrix\n",
    "X_df = pd.read_csv('https://raw.githubusercontent.com/zyankarli/Data-for-individual-portfolio/main/X_df_Translated.csv')\n",
    "X_df"
   ]
  },
  {
   "source": [
    "Each row now represents one tweet, with the numbers in each column indicating the single words translated into numbers.\n",
    "Next, X_df is formatted in a way that allows it to be handled by the sklearn Random Forest algorithm. This requires that all values in the dataframe are numbers and that NaN values are absent."
   ],
   "cell_type": "markdown",
   "metadata": {}
  },
  {
   "cell_type": "code",
   "execution_count": 12,
   "metadata": {},
   "outputs": [
    {
     "output_type": "stream",
     "name": "stdout",
     "text": [
      "<class 'numpy.int32'>\n"
     ]
    },
    {
     "output_type": "execute_result",
     "data": {
      "text/plain": [
       "           0      1      2      3      4      5      6      7      8      9  \\\n",
       "0      10554   9150  27450   8858  16846   9149  26689     -1     -1     -1   \n",
       "1      30971  18668   6980   4570  32900   5066  22148  34109  33023  23205   \n",
       "2       3170  18845     -1     -1     -1     -1     -1     -1     -1     -1   \n",
       "3      20073  18367  32471  30450  32471  31501     -1     -1     -1     -1   \n",
       "4      10340  28706  20342     -1     -1     -1     -1     -1     -1     -1   \n",
       "...      ...    ...    ...    ...    ...    ...    ...    ...    ...    ...   \n",
       "31957   1744  15915  35179     -1     -1     -1     -1     -1     -1     -1   \n",
       "31958  27370  21529  32330    602  32232  34749  19051  12272  13992  17864   \n",
       "31959  17989  26798  28841  20159  20288  22613  34638  26798     -1     -1   \n",
       "31960  28106  30824  33007   4635  34804   6391    210     -1     -1     -1   \n",
       "31961  30961  11330     -1     -1     -1     -1     -1     -1     -1     -1   \n",
       "\n",
       "       ...  27  28  29  30  31  32  33  34  35  36  \n",
       "0      ...  -1  -1  -1  -1  -1  -1  -1  -1  -1  -1  \n",
       "1      ...  -1  -1  -1  -1  -1  -1  -1  -1  -1  -1  \n",
       "2      ...  -1  -1  -1  -1  -1  -1  -1  -1  -1  -1  \n",
       "3      ...  -1  -1  -1  -1  -1  -1  -1  -1  -1  -1  \n",
       "4      ...  -1  -1  -1  -1  -1  -1  -1  -1  -1  -1  \n",
       "...    ...  ..  ..  ..  ..  ..  ..  ..  ..  ..  ..  \n",
       "31957  ...  -1  -1  -1  -1  -1  -1  -1  -1  -1  -1  \n",
       "31958  ...  -1  -1  -1  -1  -1  -1  -1  -1  -1  -1  \n",
       "31959  ...  -1  -1  -1  -1  -1  -1  -1  -1  -1  -1  \n",
       "31960  ...  -1  -1  -1  -1  -1  -1  -1  -1  -1  -1  \n",
       "31961  ...  -1  -1  -1  -1  -1  -1  -1  -1  -1  -1  \n",
       "\n",
       "[31962 rows x 37 columns]"
      ],
      "text/html": "<div>\n<style scoped>\n    .dataframe tbody tr th:only-of-type {\n        vertical-align: middle;\n    }\n\n    .dataframe tbody tr th {\n        vertical-align: top;\n    }\n\n    .dataframe thead th {\n        text-align: right;\n    }\n</style>\n<table border=\"1\" class=\"dataframe\">\n  <thead>\n    <tr style=\"text-align: right;\">\n      <th></th>\n      <th>0</th>\n      <th>1</th>\n      <th>2</th>\n      <th>3</th>\n      <th>4</th>\n      <th>5</th>\n      <th>6</th>\n      <th>7</th>\n      <th>8</th>\n      <th>9</th>\n      <th>...</th>\n      <th>27</th>\n      <th>28</th>\n      <th>29</th>\n      <th>30</th>\n      <th>31</th>\n      <th>32</th>\n      <th>33</th>\n      <th>34</th>\n      <th>35</th>\n      <th>36</th>\n    </tr>\n  </thead>\n  <tbody>\n    <tr>\n      <th>0</th>\n      <td>10554</td>\n      <td>9150</td>\n      <td>27450</td>\n      <td>8858</td>\n      <td>16846</td>\n      <td>9149</td>\n      <td>26689</td>\n      <td>-1</td>\n      <td>-1</td>\n      <td>-1</td>\n      <td>...</td>\n      <td>-1</td>\n      <td>-1</td>\n      <td>-1</td>\n      <td>-1</td>\n      <td>-1</td>\n      <td>-1</td>\n      <td>-1</td>\n      <td>-1</td>\n      <td>-1</td>\n      <td>-1</td>\n    </tr>\n    <tr>\n      <th>1</th>\n      <td>30971</td>\n      <td>18668</td>\n      <td>6980</td>\n      <td>4570</td>\n      <td>32900</td>\n      <td>5066</td>\n      <td>22148</td>\n      <td>34109</td>\n      <td>33023</td>\n      <td>23205</td>\n      <td>...</td>\n      <td>-1</td>\n      <td>-1</td>\n      <td>-1</td>\n      <td>-1</td>\n      <td>-1</td>\n      <td>-1</td>\n      <td>-1</td>\n      <td>-1</td>\n      <td>-1</td>\n      <td>-1</td>\n    </tr>\n    <tr>\n      <th>2</th>\n      <td>3170</td>\n      <td>18845</td>\n      <td>-1</td>\n      <td>-1</td>\n      <td>-1</td>\n      <td>-1</td>\n      <td>-1</td>\n      <td>-1</td>\n      <td>-1</td>\n      <td>-1</td>\n      <td>...</td>\n      <td>-1</td>\n      <td>-1</td>\n      <td>-1</td>\n      <td>-1</td>\n      <td>-1</td>\n      <td>-1</td>\n      <td>-1</td>\n      <td>-1</td>\n      <td>-1</td>\n      <td>-1</td>\n    </tr>\n    <tr>\n      <th>3</th>\n      <td>20073</td>\n      <td>18367</td>\n      <td>32471</td>\n      <td>30450</td>\n      <td>32471</td>\n      <td>31501</td>\n      <td>-1</td>\n      <td>-1</td>\n      <td>-1</td>\n      <td>-1</td>\n      <td>...</td>\n      <td>-1</td>\n      <td>-1</td>\n      <td>-1</td>\n      <td>-1</td>\n      <td>-1</td>\n      <td>-1</td>\n      <td>-1</td>\n      <td>-1</td>\n      <td>-1</td>\n      <td>-1</td>\n    </tr>\n    <tr>\n      <th>4</th>\n      <td>10340</td>\n      <td>28706</td>\n      <td>20342</td>\n      <td>-1</td>\n      <td>-1</td>\n      <td>-1</td>\n      <td>-1</td>\n      <td>-1</td>\n      <td>-1</td>\n      <td>-1</td>\n      <td>...</td>\n      <td>-1</td>\n      <td>-1</td>\n      <td>-1</td>\n      <td>-1</td>\n      <td>-1</td>\n      <td>-1</td>\n      <td>-1</td>\n      <td>-1</td>\n      <td>-1</td>\n      <td>-1</td>\n    </tr>\n    <tr>\n      <th>...</th>\n      <td>...</td>\n      <td>...</td>\n      <td>...</td>\n      <td>...</td>\n      <td>...</td>\n      <td>...</td>\n      <td>...</td>\n      <td>...</td>\n      <td>...</td>\n      <td>...</td>\n      <td>...</td>\n      <td>...</td>\n      <td>...</td>\n      <td>...</td>\n      <td>...</td>\n      <td>...</td>\n      <td>...</td>\n      <td>...</td>\n      <td>...</td>\n      <td>...</td>\n      <td>...</td>\n    </tr>\n    <tr>\n      <th>31957</th>\n      <td>1744</td>\n      <td>15915</td>\n      <td>35179</td>\n      <td>-1</td>\n      <td>-1</td>\n      <td>-1</td>\n      <td>-1</td>\n      <td>-1</td>\n      <td>-1</td>\n      <td>-1</td>\n      <td>...</td>\n      <td>-1</td>\n      <td>-1</td>\n      <td>-1</td>\n      <td>-1</td>\n      <td>-1</td>\n      <td>-1</td>\n      <td>-1</td>\n      <td>-1</td>\n      <td>-1</td>\n      <td>-1</td>\n    </tr>\n    <tr>\n      <th>31958</th>\n      <td>27370</td>\n      <td>21529</td>\n      <td>32330</td>\n      <td>602</td>\n      <td>32232</td>\n      <td>34749</td>\n      <td>19051</td>\n      <td>12272</td>\n      <td>13992</td>\n      <td>17864</td>\n      <td>...</td>\n      <td>-1</td>\n      <td>-1</td>\n      <td>-1</td>\n      <td>-1</td>\n      <td>-1</td>\n      <td>-1</td>\n      <td>-1</td>\n      <td>-1</td>\n      <td>-1</td>\n      <td>-1</td>\n    </tr>\n    <tr>\n      <th>31959</th>\n      <td>17989</td>\n      <td>26798</td>\n      <td>28841</td>\n      <td>20159</td>\n      <td>20288</td>\n      <td>22613</td>\n      <td>34638</td>\n      <td>26798</td>\n      <td>-1</td>\n      <td>-1</td>\n      <td>...</td>\n      <td>-1</td>\n      <td>-1</td>\n      <td>-1</td>\n      <td>-1</td>\n      <td>-1</td>\n      <td>-1</td>\n      <td>-1</td>\n      <td>-1</td>\n      <td>-1</td>\n      <td>-1</td>\n    </tr>\n    <tr>\n      <th>31960</th>\n      <td>28106</td>\n      <td>30824</td>\n      <td>33007</td>\n      <td>4635</td>\n      <td>34804</td>\n      <td>6391</td>\n      <td>210</td>\n      <td>-1</td>\n      <td>-1</td>\n      <td>-1</td>\n      <td>...</td>\n      <td>-1</td>\n      <td>-1</td>\n      <td>-1</td>\n      <td>-1</td>\n      <td>-1</td>\n      <td>-1</td>\n      <td>-1</td>\n      <td>-1</td>\n      <td>-1</td>\n      <td>-1</td>\n    </tr>\n    <tr>\n      <th>31961</th>\n      <td>30961</td>\n      <td>11330</td>\n      <td>-1</td>\n      <td>-1</td>\n      <td>-1</td>\n      <td>-1</td>\n      <td>-1</td>\n      <td>-1</td>\n      <td>-1</td>\n      <td>-1</td>\n      <td>...</td>\n      <td>-1</td>\n      <td>-1</td>\n      <td>-1</td>\n      <td>-1</td>\n      <td>-1</td>\n      <td>-1</td>\n      <td>-1</td>\n      <td>-1</td>\n      <td>-1</td>\n      <td>-1</td>\n    </tr>\n  </tbody>\n</table>\n<p>31962 rows × 37 columns</p>\n</div>"
     },
     "metadata": {},
     "execution_count": 12
    }
   ],
   "source": [
    "#Exchange NaN values for value which is not already in the LabelEncoder 'dictionary'. In this case to -1.\n",
    "X_df = X_df.fillna(np.array(-1))\n",
    "\n",
    "#Define function that deletes square brackets\n",
    "def make_int(string):\n",
    "    if string != -1:\n",
    "        return string.strip('[]')\n",
    "    else:\n",
    "        return -1\n",
    "\n",
    "#Apply function on each column\n",
    "columns = X_df.columns\n",
    "for i in columns:\n",
    "  X_df[i] = X_df[i].apply(make_int)\n",
    "\n",
    "#Convert everything into integer\n",
    "X_df = X_df.astype(int)\n",
    "print(type(X_df.loc[0][0]))\n",
    "X_df"
   ]
  },
  {
   "source": [
    "Finally the X_df is ready to be used by the Random Forest algorithm. In the following, the Random Forest algorithm is set up, trained and tested."
   ],
   "cell_type": "markdown",
   "metadata": {}
  },
  {
   "cell_type": "code",
   "execution_count": 13,
   "metadata": {},
   "outputs": [
    {
     "output_type": "stream",
     "name": "stdout",
     "text": [
      "              precision    recall  f1-score   support\n\n           0       0.95      1.00      0.97      7451\n           1       0.99      0.27      0.43       540\n\n    accuracy                           0.95      7991\n   macro avg       0.97      0.64      0.70      7991\nweighted avg       0.95      0.95      0.94      7991\n\nConfusion Matrix: \n [[7450    1]\n [ 393  147]]\n"
     ]
    }
   ],
   "source": [
    "#RANDOM FOREST\n",
    "#Initialise random forest. Use 100 decision trees\n",
    "from sklearn.ensemble import RandomForestClassifier\n",
    "random_forest = RandomForestClassifier(n_estimators = 100, random_state = 0)\n",
    "\n",
    "#Split dataset into training and test variables\n",
    "from sklearn.model_selection import train_test_split\n",
    "X_train, X_test, y_train, y_test = train_test_split(X_df, y, test_size=0.25, random_state=1) \n",
    "\n",
    "#Fit the model\n",
    "random_forest.fit(X_train, y_train)\n",
    "\n",
    "#Predict outcomes\n",
    "y_pred = random_forest.predict(X_test)\n",
    "\n",
    "#Validate model\n",
    "from sklearn import metrics\n",
    "print(metrics.classification_report(y_test, y_pred))\n",
    "print(\"Confusion Matrix:\", '\\n',metrics.confusion_matrix(y_test, y_pred))"
   ]
  },
  {
   "source": [
    "To apply the Naive Bayes algorithm the number -1 is in the following replaced by 40000 because Naive Bayes is not able to handle negative digits."
   ],
   "cell_type": "markdown",
   "metadata": {}
  },
  {
   "cell_type": "code",
   "execution_count": 14,
   "metadata": {},
   "outputs": [
    {
     "output_type": "stream",
     "name": "stdout",
     "text": [
      "Digits already used in le \"dictionary\" :  35379\n",
      "C:\\Users\\schei\\anaconda3\\envs\\NLTK_env\\lib\\site-packages\\pandas\\core\\frame.py:4524: SettingWithCopyWarning: \n",
      "A value is trying to be set on a copy of a slice from a DataFrame\n",
      "\n",
      "See the caveats in the documentation: https://pandas.pydata.org/pandas-docs/stable/user_guide/indexing.html#returning-a-view-versus-a-copy\n",
      "  return super().replace(\n"
     ]
    },
    {
     "output_type": "execute_result",
     "data": {
      "text/plain": [
       "           0      1      2      3      4      5      6      7      8      9  \\\n",
       "15552   1042  17933  18367  26505  23970  13413  17097  13210    275  11330   \n",
       "28199  23161  12449  31364  40000  40000  40000  40000  40000  40000  40000   \n",
       "8958   30964  28529  30964  24183  40000  40000  40000  40000  40000  40000   \n",
       "7771   16107  18633  18636   7849   7585  17864  34466  40000  40000  40000   \n",
       "\n",
       "       ...     27     28     29     30     31     32     33     34     35  \\\n",
       "15552  ...  40000  40000  40000  40000  40000  40000  40000  40000  40000   \n",
       "28199  ...  40000  40000  40000  40000  40000  40000  40000  40000  40000   \n",
       "8958   ...  40000  40000  40000  40000  40000  40000  40000  40000  40000   \n",
       "7771   ...  40000  40000  40000  40000  40000  40000  40000  40000  40000   \n",
       "\n",
       "          36  \n",
       "15552  40000  \n",
       "28199  40000  \n",
       "8958   40000  \n",
       "7771   40000  \n",
       "\n",
       "[4 rows x 37 columns]"
      ],
      "text/html": "<div>\n<style scoped>\n    .dataframe tbody tr th:only-of-type {\n        vertical-align: middle;\n    }\n\n    .dataframe tbody tr th {\n        vertical-align: top;\n    }\n\n    .dataframe thead th {\n        text-align: right;\n    }\n</style>\n<table border=\"1\" class=\"dataframe\">\n  <thead>\n    <tr style=\"text-align: right;\">\n      <th></th>\n      <th>0</th>\n      <th>1</th>\n      <th>2</th>\n      <th>3</th>\n      <th>4</th>\n      <th>5</th>\n      <th>6</th>\n      <th>7</th>\n      <th>8</th>\n      <th>9</th>\n      <th>...</th>\n      <th>27</th>\n      <th>28</th>\n      <th>29</th>\n      <th>30</th>\n      <th>31</th>\n      <th>32</th>\n      <th>33</th>\n      <th>34</th>\n      <th>35</th>\n      <th>36</th>\n    </tr>\n  </thead>\n  <tbody>\n    <tr>\n      <th>15552</th>\n      <td>1042</td>\n      <td>17933</td>\n      <td>18367</td>\n      <td>26505</td>\n      <td>23970</td>\n      <td>13413</td>\n      <td>17097</td>\n      <td>13210</td>\n      <td>275</td>\n      <td>11330</td>\n      <td>...</td>\n      <td>40000</td>\n      <td>40000</td>\n      <td>40000</td>\n      <td>40000</td>\n      <td>40000</td>\n      <td>40000</td>\n      <td>40000</td>\n      <td>40000</td>\n      <td>40000</td>\n      <td>40000</td>\n    </tr>\n    <tr>\n      <th>28199</th>\n      <td>23161</td>\n      <td>12449</td>\n      <td>31364</td>\n      <td>40000</td>\n      <td>40000</td>\n      <td>40000</td>\n      <td>40000</td>\n      <td>40000</td>\n      <td>40000</td>\n      <td>40000</td>\n      <td>...</td>\n      <td>40000</td>\n      <td>40000</td>\n      <td>40000</td>\n      <td>40000</td>\n      <td>40000</td>\n      <td>40000</td>\n      <td>40000</td>\n      <td>40000</td>\n      <td>40000</td>\n      <td>40000</td>\n    </tr>\n    <tr>\n      <th>8958</th>\n      <td>30964</td>\n      <td>28529</td>\n      <td>30964</td>\n      <td>24183</td>\n      <td>40000</td>\n      <td>40000</td>\n      <td>40000</td>\n      <td>40000</td>\n      <td>40000</td>\n      <td>40000</td>\n      <td>...</td>\n      <td>40000</td>\n      <td>40000</td>\n      <td>40000</td>\n      <td>40000</td>\n      <td>40000</td>\n      <td>40000</td>\n      <td>40000</td>\n      <td>40000</td>\n      <td>40000</td>\n      <td>40000</td>\n    </tr>\n    <tr>\n      <th>7771</th>\n      <td>16107</td>\n      <td>18633</td>\n      <td>18636</td>\n      <td>7849</td>\n      <td>7585</td>\n      <td>17864</td>\n      <td>34466</td>\n      <td>40000</td>\n      <td>40000</td>\n      <td>40000</td>\n      <td>...</td>\n      <td>40000</td>\n      <td>40000</td>\n      <td>40000</td>\n      <td>40000</td>\n      <td>40000</td>\n      <td>40000</td>\n      <td>40000</td>\n      <td>40000</td>\n      <td>40000</td>\n      <td>40000</td>\n    </tr>\n  </tbody>\n</table>\n<p>4 rows × 37 columns</p>\n</div>"
     },
     "metadata": {},
     "execution_count": 14
    }
   ],
   "source": [
    "print('Digits already used in le \"dictionary\" : ', len(le.classes_))\n",
    "X_train.replace(-1, 40000, inplace=True)\n",
    "X_test.replace(-1, 40000, inplace=True)\n",
    "X_train.head(4)"
   ]
  },
  {
   "source": [
    "Now the Naive Bayes algorithm is set up, trained and tested."
   ],
   "cell_type": "markdown",
   "metadata": {}
  },
  {
   "cell_type": "code",
   "execution_count": 15,
   "metadata": {},
   "outputs": [
    {
     "output_type": "stream",
     "name": "stdout",
     "text": [
      "              precision    recall  f1-score   support\n",
      "\n",
      "           0       0.93      1.00      0.97      7451\n",
      "           1       0.00      0.00      0.00       540\n",
      "\n",
      "    accuracy                           0.93      7991\n",
      "   macro avg       0.47      0.50      0.48      7991\n",
      "weighted avg       0.87      0.93      0.90      7991\n",
      "\n",
      "Confusion Matrix: \n",
      " [[7451    0]\n",
      " [ 540    0]]\n",
      "C:\\Users\\schei\\anaconda3\\envs\\NLTK_env\\lib\\site-packages\\sklearn\\metrics\\_classification.py:1245: UndefinedMetricWarning: Precision and F-score are ill-defined and being set to 0.0 in labels with no predicted samples. Use `zero_division` parameter to control this behavior.\n",
      "  _warn_prf(average, modifier, msg_start, len(result))\n",
      "C:\\Users\\schei\\anaconda3\\envs\\NLTK_env\\lib\\site-packages\\sklearn\\metrics\\_classification.py:1245: UndefinedMetricWarning: Precision and F-score are ill-defined and being set to 0.0 in labels with no predicted samples. Use `zero_division` parameter to control this behavior.\n",
      "  _warn_prf(average, modifier, msg_start, len(result))\n",
      "C:\\Users\\schei\\anaconda3\\envs\\NLTK_env\\lib\\site-packages\\sklearn\\metrics\\_classification.py:1245: UndefinedMetricWarning: Precision and F-score are ill-defined and being set to 0.0 in labels with no predicted samples. Use `zero_division` parameter to control this behavior.\n",
      "  _warn_prf(average, modifier, msg_start, len(result))\n"
     ]
    }
   ],
   "source": [
    "#NAIVE BAYES\n",
    "#Initialise Naive Bayes classifer model\n",
    "from sklearn.naive_bayes import CategoricalNB\n",
    "naive_bayes = CategoricalNB()\n",
    "\n",
    "\n",
    "#Train Naive Bayes Classifer\n",
    "naive_bayes = naive_bayes.fit(X_train,y_train)\n",
    "\n",
    "#Predict the outcome for test dataset\n",
    "y_pred = naive_bayes.predict(X_test)\n",
    "\n",
    "#Validate model\n",
    "print(metrics.classification_report(y_test, y_pred))\n",
    "print(\"Confusion Matrix:\", '\\n',metrics.confusion_matrix(y_test, y_pred))"
   ]
  },
  {
   "source": [
    "### Results\n",
    "The results show that both algorithms achieve a surprisingly high accuracy of 95% and 93%. However, it must be noted that both algrithms perform badly in recognising negative tweets. For the Random Forest, this is indicated through the high number of false positives (393) compared to 147 true negatives in the confusion matrix. The Naive Bayes algorithm achieves a accurcay of 93% by simply labelling every tweet as positive. Therefore, I conclude that the underlying dataset does not include enough negative tweets to train the machine-learning algorithms properly and thereby leads to bias towards positive tweet sentiment."
   ],
   "cell_type": "markdown",
   "metadata": {}
  },
  {
   "source": [
    "## Project 2: Stock Markets\n",
    "The objectives of this second project is to predict the weekly increase or decrease of the Dow Jones Industrial Average through the two stock market indices S&P500 and NASDAQ Composite as well as the crude oil price. The data used is weekly stock market data from the beginning of 2002 until the end of 2011."
   ],
   "cell_type": "markdown",
   "metadata": {}
  },
  {
   "cell_type": "code",
   "execution_count": 16,
   "metadata": {},
   "outputs": [],
   "source": [
    "#Load the data\n",
    "dow = pd.read_csv('https://raw.githubusercontent.com/zyankarli/Data-for-individual-portfolio/main/Dow%20Jones%20Industrial%20Average.txt', sep = ';')\n",
    "nas = pd.read_csv('https://raw.githubusercontent.com/zyankarli/Data-for-individual-portfolio/main/NASDAQ%20Composite.txt', sep = ';')\n",
    "snp = pd.read_csv('https://raw.githubusercontent.com/zyankarli/Data-for-individual-portfolio/main/S%26P%20500.txt', sep = ';')\n",
    "oil = pd.read_csv('https://raw.githubusercontent.com/zyankarli/Data-for-individual-portfolio/main/Crude%20Oil.txt', sep = ';')"
   ]
  },
  {
   "cell_type": "code",
   "execution_count": 17,
   "metadata": {},
   "outputs": [
    {
     "output_type": "stream",
     "name": "stdout",
     "text": [
      "(522, 7)\n"
     ]
    },
    {
     "output_type": "execute_result",
     "data": {
      "text/plain": [
       "           Date       Open       High        Low     Close* Adj Close**  \\\n",
       "0  Dec 27, 2011  12,293.47  12,328.47  12,140.17  12,217.56   12,217.56   \n",
       "1  Dec 20, 2011  11,769.21  12,297.44  11,768.83  12,294.00   12,294.00   \n",
       "\n",
       "      Volume  \n",
       "0  2,850,700  \n",
       "1  5,604,600  "
      ],
      "text/html": "<div>\n<style scoped>\n    .dataframe tbody tr th:only-of-type {\n        vertical-align: middle;\n    }\n\n    .dataframe tbody tr th {\n        vertical-align: top;\n    }\n\n    .dataframe thead th {\n        text-align: right;\n    }\n</style>\n<table border=\"1\" class=\"dataframe\">\n  <thead>\n    <tr style=\"text-align: right;\">\n      <th></th>\n      <th>Date</th>\n      <th>Open</th>\n      <th>High</th>\n      <th>Low</th>\n      <th>Close*</th>\n      <th>Adj Close**</th>\n      <th>Volume</th>\n    </tr>\n  </thead>\n  <tbody>\n    <tr>\n      <th>0</th>\n      <td>Dec 27, 2011</td>\n      <td>12,293.47</td>\n      <td>12,328.47</td>\n      <td>12,140.17</td>\n      <td>12,217.56</td>\n      <td>12,217.56</td>\n      <td>2,850,700</td>\n    </tr>\n    <tr>\n      <th>1</th>\n      <td>Dec 20, 2011</td>\n      <td>11,769.21</td>\n      <td>12,297.44</td>\n      <td>11,768.83</td>\n      <td>12,294.00</td>\n      <td>12,294.00</td>\n      <td>5,604,600</td>\n    </tr>\n  </tbody>\n</table>\n</div>"
     },
     "metadata": {},
     "execution_count": 17
    }
   ],
   "source": [
    "#Check whether all dataframes feature identical structure\n",
    "print(dow.shape)\n",
    "dow.head(2)"
   ]
  },
  {
   "cell_type": "code",
   "execution_count": 18,
   "metadata": {},
   "outputs": [
    {
     "output_type": "stream",
     "name": "stdout",
     "text": [
      "(522, 7)\n"
     ]
    },
    {
     "output_type": "execute_result",
     "data": {
      "text/plain": [
       "           Date      Open      High       Low    Close* Adj Close**  \\\n",
       "0  Dec 27, 2011  2,613.51  2,633.34  2,586.85  2,605.15    2,605.15   \n",
       "1  Dec 20, 2011  2,567.25  2,618.84  2,544.66  2,618.64    2,618.64   \n",
       "\n",
       "          Volume  \n",
       "0  4,083,690,000  \n",
       "1  6,165,980,000  "
      ],
      "text/html": "<div>\n<style scoped>\n    .dataframe tbody tr th:only-of-type {\n        vertical-align: middle;\n    }\n\n    .dataframe tbody tr th {\n        vertical-align: top;\n    }\n\n    .dataframe thead th {\n        text-align: right;\n    }\n</style>\n<table border=\"1\" class=\"dataframe\">\n  <thead>\n    <tr style=\"text-align: right;\">\n      <th></th>\n      <th>Date</th>\n      <th>Open</th>\n      <th>High</th>\n      <th>Low</th>\n      <th>Close*</th>\n      <th>Adj Close**</th>\n      <th>Volume</th>\n    </tr>\n  </thead>\n  <tbody>\n    <tr>\n      <th>0</th>\n      <td>Dec 27, 2011</td>\n      <td>2,613.51</td>\n      <td>2,633.34</td>\n      <td>2,586.85</td>\n      <td>2,605.15</td>\n      <td>2,605.15</td>\n      <td>4,083,690,000</td>\n    </tr>\n    <tr>\n      <th>1</th>\n      <td>Dec 20, 2011</td>\n      <td>2,567.25</td>\n      <td>2,618.84</td>\n      <td>2,544.66</td>\n      <td>2,618.64</td>\n      <td>2,618.64</td>\n      <td>6,165,980,000</td>\n    </tr>\n  </tbody>\n</table>\n</div>"
     },
     "metadata": {},
     "execution_count": 18
    }
   ],
   "source": [
    "print(nas.shape)\n",
    "nas.head(2)"
   ]
  },
  {
   "cell_type": "code",
   "execution_count": 19,
   "metadata": {},
   "outputs": [
    {
     "output_type": "stream",
     "name": "stdout",
     "text": [
      "(522, 7)\n"
     ]
    },
    {
     "output_type": "execute_result",
     "data": {
      "text/plain": [
       "           Date      Open      High       Low    Close* Adj Close**  \\\n",
       "0  Dec 27, 2011  1,265.02  1,269.37  1,248.64  1,257.60    1,257.60   \n",
       "1  Dec 20, 2011  1,205.72  1,265.42  1,205.72  1,265.33    1,265.33   \n",
       "\n",
       "           Volume  \n",
       "0   9,030,550,000  \n",
       "1  12,740,690,000  "
      ],
      "text/html": "<div>\n<style scoped>\n    .dataframe tbody tr th:only-of-type {\n        vertical-align: middle;\n    }\n\n    .dataframe tbody tr th {\n        vertical-align: top;\n    }\n\n    .dataframe thead th {\n        text-align: right;\n    }\n</style>\n<table border=\"1\" class=\"dataframe\">\n  <thead>\n    <tr style=\"text-align: right;\">\n      <th></th>\n      <th>Date</th>\n      <th>Open</th>\n      <th>High</th>\n      <th>Low</th>\n      <th>Close*</th>\n      <th>Adj Close**</th>\n      <th>Volume</th>\n    </tr>\n  </thead>\n  <tbody>\n    <tr>\n      <th>0</th>\n      <td>Dec 27, 2011</td>\n      <td>1,265.02</td>\n      <td>1,269.37</td>\n      <td>1,248.64</td>\n      <td>1,257.60</td>\n      <td>1,257.60</td>\n      <td>9,030,550,000</td>\n    </tr>\n    <tr>\n      <th>1</th>\n      <td>Dec 20, 2011</td>\n      <td>1,205.72</td>\n      <td>1,265.42</td>\n      <td>1,205.72</td>\n      <td>1,265.33</td>\n      <td>1,265.33</td>\n      <td>12,740,690,000</td>\n    </tr>\n  </tbody>\n</table>\n</div>"
     },
     "metadata": {},
     "execution_count": 19
    }
   ],
   "source": [
    "print(snp.shape)\n",
    "snp.head(2)"
   ]
  },
  {
   "cell_type": "code",
   "execution_count": 20,
   "metadata": {},
   "outputs": [
    {
     "output_type": "stream",
     "name": "stdout",
     "text": [
      "(522, 7)\n"
     ]
    },
    {
     "output_type": "execute_result",
     "data": {
      "text/plain": [
       "           Date   Open    High    Low  Close*  Adj Close**   Volume\n",
       "0  Dec 27, 2011  99.92  101.77  98.30   98.83        98.83  596,872\n",
       "1  Dec 20, 2011  94.14  100.23  94.14   99.68        99.68  708,640"
      ],
      "text/html": "<div>\n<style scoped>\n    .dataframe tbody tr th:only-of-type {\n        vertical-align: middle;\n    }\n\n    .dataframe tbody tr th {\n        vertical-align: top;\n    }\n\n    .dataframe thead th {\n        text-align: right;\n    }\n</style>\n<table border=\"1\" class=\"dataframe\">\n  <thead>\n    <tr style=\"text-align: right;\">\n      <th></th>\n      <th>Date</th>\n      <th>Open</th>\n      <th>High</th>\n      <th>Low</th>\n      <th>Close*</th>\n      <th>Adj Close**</th>\n      <th>Volume</th>\n    </tr>\n  </thead>\n  <tbody>\n    <tr>\n      <th>0</th>\n      <td>Dec 27, 2011</td>\n      <td>99.92</td>\n      <td>101.77</td>\n      <td>98.30</td>\n      <td>98.83</td>\n      <td>98.83</td>\n      <td>596,872</td>\n    </tr>\n    <tr>\n      <th>1</th>\n      <td>Dec 20, 2011</td>\n      <td>94.14</td>\n      <td>100.23</td>\n      <td>94.14</td>\n      <td>99.68</td>\n      <td>99.68</td>\n      <td>708,640</td>\n    </tr>\n  </tbody>\n</table>\n</div>"
     },
     "metadata": {},
     "execution_count": 20
    }
   ],
   "source": [
    "print(oil.shape)\n",
    "oil.head(2)"
   ]
  },
  {
   "source": [
    "The first task is to pre-process all dataframes so that they are fit for use. The fact that all dataframes feature an identical structure allows to apply the same function on all of them."
   ],
   "cell_type": "markdown",
   "metadata": {}
  },
  {
   "cell_type": "code",
   "execution_count": 21,
   "metadata": {},
   "outputs": [],
   "source": [
    "#Create function to pre-process all dataframes\n",
    "def prepare_dataframes(df, dataframe_name:str):\n",
    "    #Drop date because it is not important for the analysis\n",
    "    df.drop('Date', axis =1, inplace = True)\n",
    "    #Drop rows that don't inlcude numbers (31st of each year)\n",
    "    df = df.replace('-', np.nan)\n",
    "    df.dropna(inplace=True)\n",
    "    #Convert all values to float\n",
    "    df = df.replace(',', '', regex=True)\n",
    "    df = df.astype(float)\n",
    "    #Rename columns so that they indicate respective dataframe (important for merge)\n",
    "    new_column_names = {}\n",
    "    for i in range(len(df.columns)):\n",
    "        new_column_names[df.columns[i]] = df.columns[i] + \"_\" + dataframe_name\n",
    "    df.rename(columns = new_column_names, inplace=True)\n",
    "    return df"
   ]
  },
  {
   "cell_type": "code",
   "execution_count": 22,
   "metadata": {},
   "outputs": [],
   "source": [
    "#Apply function on all dataframes\n",
    "dow = prepare_dataframes(dow, 'dow')\n",
    "nas = prepare_dataframes(nas, 'nas')\n",
    "snp = prepare_dataframes(snp, 'snp')\n",
    "oil = prepare_dataframes(oil, 'oil')"
   ]
  },
  {
   "cell_type": "code",
   "execution_count": 23,
   "metadata": {},
   "outputs": [
    {
     "output_type": "execute_result",
     "data": {
      "text/plain": [
       "   Open_dow  High_dow   Low_dow  Close*_dow  Adj Close**_dow  Volume_dow\n",
       "0  12293.47  12328.47  12140.17    12217.56         12217.56   2850700.0\n",
       "1  11769.21  12297.44  11768.83    12294.00         12294.00   5604600.0"
      ],
      "text/html": "<div>\n<style scoped>\n    .dataframe tbody tr th:only-of-type {\n        vertical-align: middle;\n    }\n\n    .dataframe tbody tr th {\n        vertical-align: top;\n    }\n\n    .dataframe thead th {\n        text-align: right;\n    }\n</style>\n<table border=\"1\" class=\"dataframe\">\n  <thead>\n    <tr style=\"text-align: right;\">\n      <th></th>\n      <th>Open_dow</th>\n      <th>High_dow</th>\n      <th>Low_dow</th>\n      <th>Close*_dow</th>\n      <th>Adj Close**_dow</th>\n      <th>Volume_dow</th>\n    </tr>\n  </thead>\n  <tbody>\n    <tr>\n      <th>0</th>\n      <td>12293.47</td>\n      <td>12328.47</td>\n      <td>12140.17</td>\n      <td>12217.56</td>\n      <td>12217.56</td>\n      <td>2850700.0</td>\n    </tr>\n    <tr>\n      <th>1</th>\n      <td>11769.21</td>\n      <td>12297.44</td>\n      <td>11768.83</td>\n      <td>12294.00</td>\n      <td>12294.00</td>\n      <td>5604600.0</td>\n    </tr>\n  </tbody>\n</table>\n</div>"
     },
     "metadata": {},
     "execution_count": 23
    }
   ],
   "source": [
    "#Check outcome\n",
    "dow.head(2)"
   ]
  },
  {
   "source": [
    "Now that all dataframes have the same strucutre, I create a column in the dow dataframe which indicates whether the prices increased or not within each week."
   ],
   "cell_type": "markdown",
   "metadata": {}
  },
  {
   "cell_type": "code",
   "execution_count": 24,
   "metadata": {},
   "outputs": [],
   "source": [
    "#Prepare predictor dataframe dow\n",
    "dow['difference'] = dow['Adj Close**_dow'] - dow['Open_dow']\n",
    "dow['increase?'] = dow['difference'].apply(lambda i: True if i > 0 else False)"
   ]
  },
  {
   "cell_type": "code",
   "execution_count": 25,
   "metadata": {},
   "outputs": [
    {
     "output_type": "stream",
     "name": "stdout",
     "text": [
      "Number of NaN-values:  0\n"
     ]
    },
    {
     "output_type": "execute_result",
     "data": {
      "text/plain": [
       "   Open_dow  High_dow   Low_dow  Close*_dow  Adj Close**_dow  Volume_dow  \\\n",
       "0  12293.47  12328.47  12140.17    12217.56         12217.56   2850700.0   \n",
       "1  11769.21  12297.44  11768.83    12294.00         12294.00   5604600.0   \n",
       "\n",
       "   difference  increase?  \n",
       "0      -75.91      False  \n",
       "1      524.79       True  "
      ],
      "text/html": "<div>\n<style scoped>\n    .dataframe tbody tr th:only-of-type {\n        vertical-align: middle;\n    }\n\n    .dataframe tbody tr th {\n        vertical-align: top;\n    }\n\n    .dataframe thead th {\n        text-align: right;\n    }\n</style>\n<table border=\"1\" class=\"dataframe\">\n  <thead>\n    <tr style=\"text-align: right;\">\n      <th></th>\n      <th>Open_dow</th>\n      <th>High_dow</th>\n      <th>Low_dow</th>\n      <th>Close*_dow</th>\n      <th>Adj Close**_dow</th>\n      <th>Volume_dow</th>\n      <th>difference</th>\n      <th>increase?</th>\n    </tr>\n  </thead>\n  <tbody>\n    <tr>\n      <th>0</th>\n      <td>12293.47</td>\n      <td>12328.47</td>\n      <td>12140.17</td>\n      <td>12217.56</td>\n      <td>12217.56</td>\n      <td>2850700.0</td>\n      <td>-75.91</td>\n      <td>False</td>\n    </tr>\n    <tr>\n      <th>1</th>\n      <td>11769.21</td>\n      <td>12297.44</td>\n      <td>11768.83</td>\n      <td>12294.00</td>\n      <td>12294.00</td>\n      <td>5604600.0</td>\n      <td>524.79</td>\n      <td>True</td>\n    </tr>\n  </tbody>\n</table>\n</div>"
     },
     "metadata": {},
     "execution_count": 25
    }
   ],
   "source": [
    "#Check whether NaN-values are present\n",
    "print('Number of NaN-values: ', dow.isnull().sum().sum())\n",
    "dow.head(2)"
   ]
  },
  {
   "source": [
    "In the following, the vector including the predictor and the matrix containing the explanatory variables are created."
   ],
   "cell_type": "markdown",
   "metadata": {}
  },
  {
   "cell_type": "code",
   "execution_count": 26,
   "metadata": {},
   "outputs": [
    {
     "output_type": "execute_result",
     "data": {
      "text/plain": [
       "0      False\n",
       "1       True\n",
       "2      False\n",
       "3      False\n",
       "4       True\n",
       "       ...  \n",
       "517    False\n",
       "518     True\n",
       "519    False\n",
       "520    False\n",
       "521     True\n",
       "Name: increase?, Length: 522, dtype: bool"
      ]
     },
     "metadata": {},
     "execution_count": 26
    }
   ],
   "source": [
    "#Create predictor \n",
    "y = dow['increase?']\n",
    "y"
   ]
  },
  {
   "cell_type": "code",
   "execution_count": 27,
   "metadata": {},
   "outputs": [],
   "source": [
    "#Create explanatory matrix by merging nas, snp and oil\n",
    "X = pd.merge(left=nas, right = snp, left_index=True, right_index=True)\n",
    "X = pd.merge(left=X, right=oil, left_index=True, right_index=True)"
   ]
  },
  {
   "cell_type": "code",
   "execution_count": 28,
   "metadata": {},
   "outputs": [
    {
     "output_type": "execute_result",
     "data": {
      "text/plain": [
       "     Open_nas  High_nas  Low_nas  Close*_nas  Adj Close**_nas    Volume_nas  \\\n",
       "0     2613.51   2633.34  2586.85     2605.15          2605.15  4.083690e+09   \n",
       "1     2567.25   2618.84  2544.66     2618.64          2618.64  6.165980e+09   \n",
       "2     2629.67   2639.74  2518.01     2523.14          2523.14  9.519480e+09   \n",
       "3     2655.02   2663.63  2591.42     2612.26          2612.26  8.232090e+09   \n",
       "4     2529.11   2674.53  2508.27     2655.76          2655.76  9.240760e+09   \n",
       "..        ...       ...      ...         ...              ...           ...   \n",
       "517   1947.09   1959.05  1849.13     1855.53          1855.53  9.234910e+09   \n",
       "518   1946.87   1959.93  1879.24     1943.91          1943.91  8.733600e+09   \n",
       "519   1994.88   2011.25  1922.70     1930.34          1930.34  7.178540e+09   \n",
       "520   2039.42   2098.88  1979.94     1990.74          1990.74  9.383940e+09   \n",
       "521   1965.18   2081.09  1936.56     2037.10          2037.10  8.054020e+09   \n",
       "\n",
       "     Open_snp  High_snp  Low_snp  Close*_snp  Adj Close**_snp    Volume_snp  \\\n",
       "0     1265.02   1269.37  1248.64     1257.60          1257.60  9.030550e+09   \n",
       "1     1205.72   1265.42  1205.72     1265.33          1265.33  1.274069e+10   \n",
       "2     1236.83   1249.86  1202.37     1205.35          1205.35  2.123582e+10   \n",
       "3     1257.19   1267.06  1227.25     1236.47          1236.47  1.962432e+10   \n",
       "4     1192.56   1266.73  1191.80     1257.08          1257.08  2.190561e+10   \n",
       "..        ...       ...      ...         ...              ...           ...   \n",
       "517   1133.06   1137.47  1081.66     1094.44          1094.44  8.193400e+09   \n",
       "518   1127.58   1139.50  1117.43     1133.06          1133.06  6.875500e+09   \n",
       "519   1138.41   1148.81  1124.45     1127.58          1127.58  5.582800e+09   \n",
       "520   1164.89   1174.26  1138.15     1138.41          1138.41  6.508100e+09   \n",
       "521   1148.08   1176.97  1136.23     1164.89          1164.89  5.391200e+09   \n",
       "\n",
       "     Open_oil  High_oil  Low_oil  Close*_oil  Adj Close**_oil  Volume_oil  \n",
       "0       99.92    101.77    98.30       98.83            98.83    596872.0  \n",
       "1       94.14    100.23    94.14       99.68            99.68    708640.0  \n",
       "2       97.85    101.25    92.52       93.88            93.88   1352446.0  \n",
       "3      100.45    101.94    97.36       97.77            97.77   1486152.0  \n",
       "4       97.75    102.44    97.23      100.99           100.99   1384874.0  \n",
       "..        ...       ...      ...         ...              ...         ...  \n",
       "517     19.95     20.55    18.56       20.06            20.06    417225.0  \n",
       "518     18.05     20.37    18.00       20.05            20.05    411849.0  \n",
       "519     18.85     19.43    17.80       18.00            18.00    269454.0  \n",
       "520     21.20     21.50    18.65       18.89            18.89    382972.0  \n",
       "521     20.00     22.00    19.85       21.48            21.48    282482.0  \n",
       "\n",
       "[522 rows x 18 columns]"
      ],
      "text/html": "<div>\n<style scoped>\n    .dataframe tbody tr th:only-of-type {\n        vertical-align: middle;\n    }\n\n    .dataframe tbody tr th {\n        vertical-align: top;\n    }\n\n    .dataframe thead th {\n        text-align: right;\n    }\n</style>\n<table border=\"1\" class=\"dataframe\">\n  <thead>\n    <tr style=\"text-align: right;\">\n      <th></th>\n      <th>Open_nas</th>\n      <th>High_nas</th>\n      <th>Low_nas</th>\n      <th>Close*_nas</th>\n      <th>Adj Close**_nas</th>\n      <th>Volume_nas</th>\n      <th>Open_snp</th>\n      <th>High_snp</th>\n      <th>Low_snp</th>\n      <th>Close*_snp</th>\n      <th>Adj Close**_snp</th>\n      <th>Volume_snp</th>\n      <th>Open_oil</th>\n      <th>High_oil</th>\n      <th>Low_oil</th>\n      <th>Close*_oil</th>\n      <th>Adj Close**_oil</th>\n      <th>Volume_oil</th>\n    </tr>\n  </thead>\n  <tbody>\n    <tr>\n      <th>0</th>\n      <td>2613.51</td>\n      <td>2633.34</td>\n      <td>2586.85</td>\n      <td>2605.15</td>\n      <td>2605.15</td>\n      <td>4.083690e+09</td>\n      <td>1265.02</td>\n      <td>1269.37</td>\n      <td>1248.64</td>\n      <td>1257.60</td>\n      <td>1257.60</td>\n      <td>9.030550e+09</td>\n      <td>99.92</td>\n      <td>101.77</td>\n      <td>98.30</td>\n      <td>98.83</td>\n      <td>98.83</td>\n      <td>596872.0</td>\n    </tr>\n    <tr>\n      <th>1</th>\n      <td>2567.25</td>\n      <td>2618.84</td>\n      <td>2544.66</td>\n      <td>2618.64</td>\n      <td>2618.64</td>\n      <td>6.165980e+09</td>\n      <td>1205.72</td>\n      <td>1265.42</td>\n      <td>1205.72</td>\n      <td>1265.33</td>\n      <td>1265.33</td>\n      <td>1.274069e+10</td>\n      <td>94.14</td>\n      <td>100.23</td>\n      <td>94.14</td>\n      <td>99.68</td>\n      <td>99.68</td>\n      <td>708640.0</td>\n    </tr>\n    <tr>\n      <th>2</th>\n      <td>2629.67</td>\n      <td>2639.74</td>\n      <td>2518.01</td>\n      <td>2523.14</td>\n      <td>2523.14</td>\n      <td>9.519480e+09</td>\n      <td>1236.83</td>\n      <td>1249.86</td>\n      <td>1202.37</td>\n      <td>1205.35</td>\n      <td>1205.35</td>\n      <td>2.123582e+10</td>\n      <td>97.85</td>\n      <td>101.25</td>\n      <td>92.52</td>\n      <td>93.88</td>\n      <td>93.88</td>\n      <td>1352446.0</td>\n    </tr>\n    <tr>\n      <th>3</th>\n      <td>2655.02</td>\n      <td>2663.63</td>\n      <td>2591.42</td>\n      <td>2612.26</td>\n      <td>2612.26</td>\n      <td>8.232090e+09</td>\n      <td>1257.19</td>\n      <td>1267.06</td>\n      <td>1227.25</td>\n      <td>1236.47</td>\n      <td>1236.47</td>\n      <td>1.962432e+10</td>\n      <td>100.45</td>\n      <td>101.94</td>\n      <td>97.36</td>\n      <td>97.77</td>\n      <td>97.77</td>\n      <td>1486152.0</td>\n    </tr>\n    <tr>\n      <th>4</th>\n      <td>2529.11</td>\n      <td>2674.53</td>\n      <td>2508.27</td>\n      <td>2655.76</td>\n      <td>2655.76</td>\n      <td>9.240760e+09</td>\n      <td>1192.56</td>\n      <td>1266.73</td>\n      <td>1191.80</td>\n      <td>1257.08</td>\n      <td>1257.08</td>\n      <td>2.190561e+10</td>\n      <td>97.75</td>\n      <td>102.44</td>\n      <td>97.23</td>\n      <td>100.99</td>\n      <td>100.99</td>\n      <td>1384874.0</td>\n    </tr>\n    <tr>\n      <th>...</th>\n      <td>...</td>\n      <td>...</td>\n      <td>...</td>\n      <td>...</td>\n      <td>...</td>\n      <td>...</td>\n      <td>...</td>\n      <td>...</td>\n      <td>...</td>\n      <td>...</td>\n      <td>...</td>\n      <td>...</td>\n      <td>...</td>\n      <td>...</td>\n      <td>...</td>\n      <td>...</td>\n      <td>...</td>\n      <td>...</td>\n    </tr>\n    <tr>\n      <th>517</th>\n      <td>1947.09</td>\n      <td>1959.05</td>\n      <td>1849.13</td>\n      <td>1855.53</td>\n      <td>1855.53</td>\n      <td>9.234910e+09</td>\n      <td>1133.06</td>\n      <td>1137.47</td>\n      <td>1081.66</td>\n      <td>1094.44</td>\n      <td>1094.44</td>\n      <td>8.193400e+09</td>\n      <td>19.95</td>\n      <td>20.55</td>\n      <td>18.56</td>\n      <td>20.06</td>\n      <td>20.06</td>\n      <td>417225.0</td>\n    </tr>\n    <tr>\n      <th>518</th>\n      <td>1946.87</td>\n      <td>1959.93</td>\n      <td>1879.24</td>\n      <td>1943.91</td>\n      <td>1943.91</td>\n      <td>8.733600e+09</td>\n      <td>1127.58</td>\n      <td>1139.50</td>\n      <td>1117.43</td>\n      <td>1133.06</td>\n      <td>1133.06</td>\n      <td>6.875500e+09</td>\n      <td>18.05</td>\n      <td>20.37</td>\n      <td>18.00</td>\n      <td>20.05</td>\n      <td>20.05</td>\n      <td>411849.0</td>\n    </tr>\n    <tr>\n      <th>519</th>\n      <td>1994.88</td>\n      <td>2011.25</td>\n      <td>1922.70</td>\n      <td>1930.34</td>\n      <td>1930.34</td>\n      <td>7.178540e+09</td>\n      <td>1138.41</td>\n      <td>1148.81</td>\n      <td>1124.45</td>\n      <td>1127.58</td>\n      <td>1127.58</td>\n      <td>5.582800e+09</td>\n      <td>18.85</td>\n      <td>19.43</td>\n      <td>17.80</td>\n      <td>18.00</td>\n      <td>18.00</td>\n      <td>269454.0</td>\n    </tr>\n    <tr>\n      <th>520</th>\n      <td>2039.42</td>\n      <td>2098.88</td>\n      <td>1979.94</td>\n      <td>1990.74</td>\n      <td>1990.74</td>\n      <td>9.383940e+09</td>\n      <td>1164.89</td>\n      <td>1174.26</td>\n      <td>1138.15</td>\n      <td>1138.41</td>\n      <td>1138.41</td>\n      <td>6.508100e+09</td>\n      <td>21.20</td>\n      <td>21.50</td>\n      <td>18.65</td>\n      <td>18.89</td>\n      <td>18.89</td>\n      <td>382972.0</td>\n    </tr>\n    <tr>\n      <th>521</th>\n      <td>1965.18</td>\n      <td>2081.09</td>\n      <td>1936.56</td>\n      <td>2037.10</td>\n      <td>2037.10</td>\n      <td>8.054020e+09</td>\n      <td>1148.08</td>\n      <td>1176.97</td>\n      <td>1136.23</td>\n      <td>1164.89</td>\n      <td>1164.89</td>\n      <td>5.391200e+09</td>\n      <td>20.00</td>\n      <td>22.00</td>\n      <td>19.85</td>\n      <td>21.48</td>\n      <td>21.48</td>\n      <td>282482.0</td>\n    </tr>\n  </tbody>\n</table>\n<p>522 rows × 18 columns</p>\n</div>"
     },
     "metadata": {},
     "execution_count": 28
    }
   ],
   "source": [
    "X"
   ]
  },
  {
   "source": [
    "Now everything is arranged for the application of the machine-learning algorithms."
   ],
   "cell_type": "markdown",
   "metadata": {}
  },
  {
   "cell_type": "code",
   "execution_count": 29,
   "metadata": {},
   "outputs": [],
   "source": [
    "#Split dataset into training and test variables\n",
    "X_train, X_test, y_train, y_test = train_test_split(X, y, test_size=0.25, random_state=1)"
   ]
  },
  {
   "cell_type": "code",
   "execution_count": 30,
   "metadata": {},
   "outputs": [
    {
     "output_type": "stream",
     "name": "stdout",
     "text": [
      "              precision    recall  f1-score   support\n\n       False       0.67      0.59      0.63        61\n        True       0.68      0.74      0.71        70\n\n    accuracy                           0.67       131\n   macro avg       0.67      0.67      0.67       131\nweighted avg       0.67      0.67      0.67       131\n\nConfusion Matrix: \n [[36 25]\n [18 52]]\n"
     ]
    },
    {
     "output_type": "display_data",
     "data": {
      "text/plain": "<Figure size 504x504 with 4 Axes>",
      "image/svg+xml": "<?xml version=\"1.0\" encoding=\"utf-8\" standalone=\"no\"?>\r\n<!DOCTYPE svg PUBLIC \"-//W3C//DTD SVG 1.1//EN\"\r\n  \"http://www.w3.org/Graphics/SVG/1.1/DTD/svg11.dtd\">\r\n<!-- Created with matplotlib (https://matplotlib.org/) -->\r\n<svg height=\"426.71625pt\" version=\"1.1\" viewBox=\"0 0 401.001932 426.71625\" width=\"401.001932pt\" xmlns=\"http://www.w3.org/2000/svg\" xmlns:xlink=\"http://www.w3.org/1999/xlink\">\r\n <metadata>\r\n  <rdf:RDF xmlns:cc=\"http://creativecommons.org/ns#\" xmlns:dc=\"http://purl.org/dc/elements/1.1/\" xmlns:rdf=\"http://www.w3.org/1999/02/22-rdf-syntax-ns#\">\r\n   <cc:Work>\r\n    <dc:type rdf:resource=\"http://purl.org/dc/dcmitype/StillImage\"/>\r\n    <dc:date>2021-05-04T23:15:06.784927</dc:date>\r\n    <dc:format>image/svg+xml</dc:format>\r\n    <dc:creator>\r\n     <cc:Agent>\r\n      <dc:title>Matplotlib v3.3.4, https://matplotlib.org/</dc:title>\r\n     </cc:Agent>\r\n    </dc:creator>\r\n   </cc:Work>\r\n  </rdf:RDF>\r\n </metadata>\r\n <defs>\r\n  <style type=\"text/css\">*{stroke-linecap:butt;stroke-linejoin:round;}</style>\r\n </defs>\r\n <g id=\"figure_1\">\r\n  <g id=\"patch_1\">\r\n   <path d=\"M 0 426.71625 \r\nL 401.001932 426.71625 \r\nL 401.001932 0 \r\nL 0 0 \r\nz\r\n\" style=\"fill:none;\"/>\r\n  </g>\r\n  <g id=\"axes_1\">\r\n   <g id=\"patch_2\">\r\n    <path d=\"M 23.878125 195.281761 \r\nL 336.358125 195.281761 \r\nL 336.358125 22.318125 \r\nL 23.878125 22.318125 \r\nz\r\n\" style=\"fill:#ffffff;\"/>\r\n   </g>\r\n   <g id=\"QuadMesh_1\">\r\n    <path clip-path=\"url(#pa3860d454c)\" d=\"M 23.878125 22.318125 \r\nL 180.118125 22.318125 \r\nL 180.118125 108.799943 \r\nL 23.878125 108.799943 \r\nL 23.878125 22.318125 \r\n\" style=\"fill:#61a7d2;\"/>\r\n    <path clip-path=\"url(#pa3860d454c)\" d=\"M 180.118125 22.318125 \r\nL 336.358125 22.318125 \r\nL 336.358125 108.799943 \r\nL 180.118125 108.799943 \r\nL 180.118125 22.318125 \r\n\" style=\"fill:#cfe1f2;\"/>\r\n    <path clip-path=\"url(#pa3860d454c)\" d=\"M 23.878125 108.799943 \r\nL 180.118125 108.799943 \r\nL 180.118125 195.281761 \r\nL 23.878125 195.281761 \r\nL 23.878125 108.799943 \r\n\" style=\"fill:#f7fbff;\"/>\r\n    <path clip-path=\"url(#pa3860d454c)\" d=\"M 180.118125 108.799943 \r\nL 336.358125 108.799943 \r\nL 336.358125 195.281761 \r\nL 180.118125 195.281761 \r\nL 180.118125 108.799943 \r\n\" style=\"fill:#08306b;\"/>\r\n   </g>\r\n   <g id=\"matplotlib.axis_1\">\r\n    <g id=\"xtick_1\">\r\n     <g id=\"line2d_1\">\r\n      <defs>\r\n       <path d=\"M 0 0 \r\nL 0 3.5 \r\n\" id=\"m1c508236e8\" style=\"stroke:#000000;stroke-width:0.8;\"/>\r\n      </defs>\r\n      <g>\r\n       <use style=\"stroke:#000000;stroke-width:0.8;\" x=\"101.998125\" xlink:href=\"#m1c508236e8\" y=\"195.281761\"/>\r\n      </g>\r\n     </g>\r\n     <g id=\"text_1\">\r\n      <!-- 0 -->\r\n      <g transform=\"translate(98.816875 209.880199)scale(0.1 -0.1)\">\r\n       <defs>\r\n        <path d=\"M 31.78125 66.40625 \r\nQ 24.171875 66.40625 20.328125 58.90625 \r\nQ 16.5 51.421875 16.5 36.375 \r\nQ 16.5 21.390625 20.328125 13.890625 \r\nQ 24.171875 6.390625 31.78125 6.390625 \r\nQ 39.453125 6.390625 43.28125 13.890625 \r\nQ 47.125 21.390625 47.125 36.375 \r\nQ 47.125 51.421875 43.28125 58.90625 \r\nQ 39.453125 66.40625 31.78125 66.40625 \r\nz\r\nM 31.78125 74.21875 \r\nQ 44.046875 74.21875 50.515625 64.515625 \r\nQ 56.984375 54.828125 56.984375 36.375 \r\nQ 56.984375 17.96875 50.515625 8.265625 \r\nQ 44.046875 -1.421875 31.78125 -1.421875 \r\nQ 19.53125 -1.421875 13.0625 8.265625 \r\nQ 6.59375 17.96875 6.59375 36.375 \r\nQ 6.59375 54.828125 13.0625 64.515625 \r\nQ 19.53125 74.21875 31.78125 74.21875 \r\nz\r\n\" id=\"DejaVuSans-48\"/>\r\n       </defs>\r\n       <use xlink:href=\"#DejaVuSans-48\"/>\r\n      </g>\r\n     </g>\r\n    </g>\r\n    <g id=\"xtick_2\">\r\n     <g id=\"line2d_2\">\r\n      <g>\r\n       <use style=\"stroke:#000000;stroke-width:0.8;\" x=\"258.238125\" xlink:href=\"#m1c508236e8\" y=\"195.281761\"/>\r\n      </g>\r\n     </g>\r\n     <g id=\"text_2\">\r\n      <!-- 1 -->\r\n      <g transform=\"translate(255.056875 209.880199)scale(0.1 -0.1)\">\r\n       <defs>\r\n        <path d=\"M 12.40625 8.296875 \r\nL 28.515625 8.296875 \r\nL 28.515625 63.921875 \r\nL 10.984375 60.40625 \r\nL 10.984375 69.390625 \r\nL 28.421875 72.90625 \r\nL 38.28125 72.90625 \r\nL 38.28125 8.296875 \r\nL 54.390625 8.296875 \r\nL 54.390625 0 \r\nL 12.40625 0 \r\nz\r\n\" id=\"DejaVuSans-49\"/>\r\n       </defs>\r\n       <use xlink:href=\"#DejaVuSans-49\"/>\r\n      </g>\r\n     </g>\r\n    </g>\r\n   </g>\r\n   <g id=\"matplotlib.axis_2\">\r\n    <g id=\"ytick_1\">\r\n     <g id=\"line2d_3\">\r\n      <defs>\r\n       <path d=\"M 0 0 \r\nL -3.5 0 \r\n\" id=\"m4036468491\" style=\"stroke:#000000;stroke-width:0.8;\"/>\r\n      </defs>\r\n      <g>\r\n       <use style=\"stroke:#000000;stroke-width:0.8;\" x=\"23.878125\" xlink:href=\"#m4036468491\" y=\"65.559034\"/>\r\n      </g>\r\n     </g>\r\n     <g id=\"text_3\">\r\n      <!-- 0 -->\r\n      <g transform=\"translate(14.798438 68.122315)rotate(-90)scale(0.1 -0.1)\">\r\n       <use xlink:href=\"#DejaVuSans-48\"/>\r\n      </g>\r\n     </g>\r\n    </g>\r\n    <g id=\"ytick_2\">\r\n     <g id=\"line2d_4\">\r\n      <g>\r\n       <use style=\"stroke:#000000;stroke-width:0.8;\" x=\"23.878125\" xlink:href=\"#m4036468491\" y=\"152.040852\"/>\r\n      </g>\r\n     </g>\r\n     <g id=\"text_4\">\r\n      <!-- 1 -->\r\n      <g transform=\"translate(14.798438 154.604134)rotate(-90)scale(0.1 -0.1)\">\r\n       <use xlink:href=\"#DejaVuSans-49\"/>\r\n      </g>\r\n     </g>\r\n    </g>\r\n   </g>\r\n   <g id=\"text_5\">\r\n    <!-- 36 -->\r\n    <g style=\"fill:#ffffff;\" transform=\"translate(95.635625 68.318409)scale(0.1 -0.1)\">\r\n     <defs>\r\n      <path d=\"M 40.578125 39.3125 \r\nQ 47.65625 37.796875 51.625 33 \r\nQ 55.609375 28.21875 55.609375 21.1875 \r\nQ 55.609375 10.40625 48.1875 4.484375 \r\nQ 40.765625 -1.421875 27.09375 -1.421875 \r\nQ 22.515625 -1.421875 17.65625 -0.515625 \r\nQ 12.796875 0.390625 7.625 2.203125 \r\nL 7.625 11.71875 \r\nQ 11.71875 9.328125 16.59375 8.109375 \r\nQ 21.484375 6.890625 26.8125 6.890625 \r\nQ 36.078125 6.890625 40.9375 10.546875 \r\nQ 45.796875 14.203125 45.796875 21.1875 \r\nQ 45.796875 27.640625 41.28125 31.265625 \r\nQ 36.765625 34.90625 28.71875 34.90625 \r\nL 20.21875 34.90625 \r\nL 20.21875 43.015625 \r\nL 29.109375 43.015625 \r\nQ 36.375 43.015625 40.234375 45.921875 \r\nQ 44.09375 48.828125 44.09375 54.296875 \r\nQ 44.09375 59.90625 40.109375 62.90625 \r\nQ 36.140625 65.921875 28.71875 65.921875 \r\nQ 24.65625 65.921875 20.015625 65.03125 \r\nQ 15.375 64.15625 9.8125 62.3125 \r\nL 9.8125 71.09375 \r\nQ 15.4375 72.65625 20.34375 73.4375 \r\nQ 25.25 74.21875 29.59375 74.21875 \r\nQ 40.828125 74.21875 47.359375 69.109375 \r\nQ 53.90625 64.015625 53.90625 55.328125 \r\nQ 53.90625 49.265625 50.4375 45.09375 \r\nQ 46.96875 40.921875 40.578125 39.3125 \r\nz\r\n\" id=\"DejaVuSans-51\"/>\r\n      <path d=\"M 33.015625 40.375 \r\nQ 26.375 40.375 22.484375 35.828125 \r\nQ 18.609375 31.296875 18.609375 23.390625 \r\nQ 18.609375 15.53125 22.484375 10.953125 \r\nQ 26.375 6.390625 33.015625 6.390625 \r\nQ 39.65625 6.390625 43.53125 10.953125 \r\nQ 47.40625 15.53125 47.40625 23.390625 \r\nQ 47.40625 31.296875 43.53125 35.828125 \r\nQ 39.65625 40.375 33.015625 40.375 \r\nz\r\nM 52.59375 71.296875 \r\nL 52.59375 62.3125 \r\nQ 48.875 64.0625 45.09375 64.984375 \r\nQ 41.3125 65.921875 37.59375 65.921875 \r\nQ 27.828125 65.921875 22.671875 59.328125 \r\nQ 17.53125 52.734375 16.796875 39.40625 \r\nQ 19.671875 43.65625 24.015625 45.921875 \r\nQ 28.375 48.1875 33.59375 48.1875 \r\nQ 44.578125 48.1875 50.953125 41.515625 \r\nQ 57.328125 34.859375 57.328125 23.390625 \r\nQ 57.328125 12.15625 50.6875 5.359375 \r\nQ 44.046875 -1.421875 33.015625 -1.421875 \r\nQ 20.359375 -1.421875 13.671875 8.265625 \r\nQ 6.984375 17.96875 6.984375 36.375 \r\nQ 6.984375 53.65625 15.1875 63.9375 \r\nQ 23.390625 74.21875 37.203125 74.21875 \r\nQ 40.921875 74.21875 44.703125 73.484375 \r\nQ 48.484375 72.75 52.59375 71.296875 \r\nz\r\n\" id=\"DejaVuSans-54\"/>\r\n     </defs>\r\n     <use xlink:href=\"#DejaVuSans-51\"/>\r\n     <use x=\"63.623047\" xlink:href=\"#DejaVuSans-54\"/>\r\n    </g>\r\n   </g>\r\n   <g id=\"text_6\">\r\n    <!-- 25 -->\r\n    <g style=\"fill:#262626;\" transform=\"translate(251.875625 68.318409)scale(0.1 -0.1)\">\r\n     <defs>\r\n      <path d=\"M 19.1875 8.296875 \r\nL 53.609375 8.296875 \r\nL 53.609375 0 \r\nL 7.328125 0 \r\nL 7.328125 8.296875 \r\nQ 12.9375 14.109375 22.625 23.890625 \r\nQ 32.328125 33.6875 34.8125 36.53125 \r\nQ 39.546875 41.84375 41.421875 45.53125 \r\nQ 43.3125 49.21875 43.3125 52.78125 \r\nQ 43.3125 58.59375 39.234375 62.25 \r\nQ 35.15625 65.921875 28.609375 65.921875 \r\nQ 23.96875 65.921875 18.8125 64.3125 \r\nQ 13.671875 62.703125 7.8125 59.421875 \r\nL 7.8125 69.390625 \r\nQ 13.765625 71.78125 18.9375 73 \r\nQ 24.125 74.21875 28.421875 74.21875 \r\nQ 39.75 74.21875 46.484375 68.546875 \r\nQ 53.21875 62.890625 53.21875 53.421875 \r\nQ 53.21875 48.921875 51.53125 44.890625 \r\nQ 49.859375 40.875 45.40625 35.40625 \r\nQ 44.1875 33.984375 37.640625 27.21875 \r\nQ 31.109375 20.453125 19.1875 8.296875 \r\nz\r\n\" id=\"DejaVuSans-50\"/>\r\n      <path d=\"M 10.796875 72.90625 \r\nL 49.515625 72.90625 \r\nL 49.515625 64.59375 \r\nL 19.828125 64.59375 \r\nL 19.828125 46.734375 \r\nQ 21.96875 47.46875 24.109375 47.828125 \r\nQ 26.265625 48.1875 28.421875 48.1875 \r\nQ 40.625 48.1875 47.75 41.5 \r\nQ 54.890625 34.8125 54.890625 23.390625 \r\nQ 54.890625 11.625 47.5625 5.09375 \r\nQ 40.234375 -1.421875 26.90625 -1.421875 \r\nQ 22.3125 -1.421875 17.546875 -0.640625 \r\nQ 12.796875 0.140625 7.71875 1.703125 \r\nL 7.71875 11.625 \r\nQ 12.109375 9.234375 16.796875 8.0625 \r\nQ 21.484375 6.890625 26.703125 6.890625 \r\nQ 35.15625 6.890625 40.078125 11.328125 \r\nQ 45.015625 15.765625 45.015625 23.390625 \r\nQ 45.015625 31 40.078125 35.4375 \r\nQ 35.15625 39.890625 26.703125 39.890625 \r\nQ 22.75 39.890625 18.8125 39.015625 \r\nQ 14.890625 38.140625 10.796875 36.28125 \r\nz\r\n\" id=\"DejaVuSans-53\"/>\r\n     </defs>\r\n     <use xlink:href=\"#DejaVuSans-50\"/>\r\n     <use x=\"63.623047\" xlink:href=\"#DejaVuSans-53\"/>\r\n    </g>\r\n   </g>\r\n   <g id=\"text_7\">\r\n    <!-- 18 -->\r\n    <g style=\"fill:#262626;\" transform=\"translate(95.635625 154.800227)scale(0.1 -0.1)\">\r\n     <defs>\r\n      <path d=\"M 31.78125 34.625 \r\nQ 24.75 34.625 20.71875 30.859375 \r\nQ 16.703125 27.09375 16.703125 20.515625 \r\nQ 16.703125 13.921875 20.71875 10.15625 \r\nQ 24.75 6.390625 31.78125 6.390625 \r\nQ 38.8125 6.390625 42.859375 10.171875 \r\nQ 46.921875 13.96875 46.921875 20.515625 \r\nQ 46.921875 27.09375 42.890625 30.859375 \r\nQ 38.875 34.625 31.78125 34.625 \r\nz\r\nM 21.921875 38.8125 \r\nQ 15.578125 40.375 12.03125 44.71875 \r\nQ 8.5 49.078125 8.5 55.328125 \r\nQ 8.5 64.0625 14.71875 69.140625 \r\nQ 20.953125 74.21875 31.78125 74.21875 \r\nQ 42.671875 74.21875 48.875 69.140625 \r\nQ 55.078125 64.0625 55.078125 55.328125 \r\nQ 55.078125 49.078125 51.53125 44.71875 \r\nQ 48 40.375 41.703125 38.8125 \r\nQ 48.828125 37.15625 52.796875 32.3125 \r\nQ 56.78125 27.484375 56.78125 20.515625 \r\nQ 56.78125 9.90625 50.3125 4.234375 \r\nQ 43.84375 -1.421875 31.78125 -1.421875 \r\nQ 19.734375 -1.421875 13.25 4.234375 \r\nQ 6.78125 9.90625 6.78125 20.515625 \r\nQ 6.78125 27.484375 10.78125 32.3125 \r\nQ 14.796875 37.15625 21.921875 38.8125 \r\nz\r\nM 18.3125 54.390625 \r\nQ 18.3125 48.734375 21.84375 45.5625 \r\nQ 25.390625 42.390625 31.78125 42.390625 \r\nQ 38.140625 42.390625 41.71875 45.5625 \r\nQ 45.3125 48.734375 45.3125 54.390625 \r\nQ 45.3125 60.0625 41.71875 63.234375 \r\nQ 38.140625 66.40625 31.78125 66.40625 \r\nQ 25.390625 66.40625 21.84375 63.234375 \r\nQ 18.3125 60.0625 18.3125 54.390625 \r\nz\r\n\" id=\"DejaVuSans-56\"/>\r\n     </defs>\r\n     <use xlink:href=\"#DejaVuSans-49\"/>\r\n     <use x=\"63.623047\" xlink:href=\"#DejaVuSans-56\"/>\r\n    </g>\r\n   </g>\r\n   <g id=\"text_8\">\r\n    <!-- 52 -->\r\n    <g style=\"fill:#ffffff;\" transform=\"translate(251.875625 154.800227)scale(0.1 -0.1)\">\r\n     <use xlink:href=\"#DejaVuSans-53\"/>\r\n     <use x=\"63.623047\" xlink:href=\"#DejaVuSans-50\"/>\r\n    </g>\r\n   </g>\r\n   <g id=\"text_9\">\r\n    <!-- Confusion Matrix - absolute values -->\r\n    <g transform=\"translate(76.279688 16.318125)scale(0.12 -0.12)\">\r\n     <defs>\r\n      <path d=\"M 64.40625 67.28125 \r\nL 64.40625 56.890625 \r\nQ 59.421875 61.53125 53.78125 63.8125 \r\nQ 48.140625 66.109375 41.796875 66.109375 \r\nQ 29.296875 66.109375 22.65625 58.46875 \r\nQ 16.015625 50.828125 16.015625 36.375 \r\nQ 16.015625 21.96875 22.65625 14.328125 \r\nQ 29.296875 6.6875 41.796875 6.6875 \r\nQ 48.140625 6.6875 53.78125 8.984375 \r\nQ 59.421875 11.28125 64.40625 15.921875 \r\nL 64.40625 5.609375 \r\nQ 59.234375 2.09375 53.4375 0.328125 \r\nQ 47.65625 -1.421875 41.21875 -1.421875 \r\nQ 24.65625 -1.421875 15.125 8.703125 \r\nQ 5.609375 18.84375 5.609375 36.375 \r\nQ 5.609375 53.953125 15.125 64.078125 \r\nQ 24.65625 74.21875 41.21875 74.21875 \r\nQ 47.75 74.21875 53.53125 72.484375 \r\nQ 59.328125 70.75 64.40625 67.28125 \r\nz\r\n\" id=\"DejaVuSans-67\"/>\r\n      <path d=\"M 30.609375 48.390625 \r\nQ 23.390625 48.390625 19.1875 42.75 \r\nQ 14.984375 37.109375 14.984375 27.296875 \r\nQ 14.984375 17.484375 19.15625 11.84375 \r\nQ 23.34375 6.203125 30.609375 6.203125 \r\nQ 37.796875 6.203125 41.984375 11.859375 \r\nQ 46.1875 17.53125 46.1875 27.296875 \r\nQ 46.1875 37.015625 41.984375 42.703125 \r\nQ 37.796875 48.390625 30.609375 48.390625 \r\nz\r\nM 30.609375 56 \r\nQ 42.328125 56 49.015625 48.375 \r\nQ 55.71875 40.765625 55.71875 27.296875 \r\nQ 55.71875 13.875 49.015625 6.21875 \r\nQ 42.328125 -1.421875 30.609375 -1.421875 \r\nQ 18.84375 -1.421875 12.171875 6.21875 \r\nQ 5.515625 13.875 5.515625 27.296875 \r\nQ 5.515625 40.765625 12.171875 48.375 \r\nQ 18.84375 56 30.609375 56 \r\nz\r\n\" id=\"DejaVuSans-111\"/>\r\n      <path d=\"M 54.890625 33.015625 \r\nL 54.890625 0 \r\nL 45.90625 0 \r\nL 45.90625 32.71875 \r\nQ 45.90625 40.484375 42.875 44.328125 \r\nQ 39.84375 48.1875 33.796875 48.1875 \r\nQ 26.515625 48.1875 22.3125 43.546875 \r\nQ 18.109375 38.921875 18.109375 30.90625 \r\nL 18.109375 0 \r\nL 9.078125 0 \r\nL 9.078125 54.6875 \r\nL 18.109375 54.6875 \r\nL 18.109375 46.1875 \r\nQ 21.34375 51.125 25.703125 53.5625 \r\nQ 30.078125 56 35.796875 56 \r\nQ 45.21875 56 50.046875 50.171875 \r\nQ 54.890625 44.34375 54.890625 33.015625 \r\nz\r\n\" id=\"DejaVuSans-110\"/>\r\n      <path d=\"M 37.109375 75.984375 \r\nL 37.109375 68.5 \r\nL 28.515625 68.5 \r\nQ 23.6875 68.5 21.796875 66.546875 \r\nQ 19.921875 64.59375 19.921875 59.515625 \r\nL 19.921875 54.6875 \r\nL 34.71875 54.6875 \r\nL 34.71875 47.703125 \r\nL 19.921875 47.703125 \r\nL 19.921875 0 \r\nL 10.890625 0 \r\nL 10.890625 47.703125 \r\nL 2.296875 47.703125 \r\nL 2.296875 54.6875 \r\nL 10.890625 54.6875 \r\nL 10.890625 58.5 \r\nQ 10.890625 67.625 15.140625 71.796875 \r\nQ 19.390625 75.984375 28.609375 75.984375 \r\nz\r\n\" id=\"DejaVuSans-102\"/>\r\n      <path d=\"M 8.5 21.578125 \r\nL 8.5 54.6875 \r\nL 17.484375 54.6875 \r\nL 17.484375 21.921875 \r\nQ 17.484375 14.15625 20.5 10.265625 \r\nQ 23.53125 6.390625 29.59375 6.390625 \r\nQ 36.859375 6.390625 41.078125 11.03125 \r\nQ 45.3125 15.671875 45.3125 23.6875 \r\nL 45.3125 54.6875 \r\nL 54.296875 54.6875 \r\nL 54.296875 0 \r\nL 45.3125 0 \r\nL 45.3125 8.40625 \r\nQ 42.046875 3.421875 37.71875 1 \r\nQ 33.40625 -1.421875 27.6875 -1.421875 \r\nQ 18.265625 -1.421875 13.375 4.4375 \r\nQ 8.5 10.296875 8.5 21.578125 \r\nz\r\nM 31.109375 56 \r\nz\r\n\" id=\"DejaVuSans-117\"/>\r\n      <path d=\"M 44.28125 53.078125 \r\nL 44.28125 44.578125 \r\nQ 40.484375 46.53125 36.375 47.5 \r\nQ 32.28125 48.484375 27.875 48.484375 \r\nQ 21.1875 48.484375 17.84375 46.4375 \r\nQ 14.5 44.390625 14.5 40.28125 \r\nQ 14.5 37.15625 16.890625 35.375 \r\nQ 19.28125 33.59375 26.515625 31.984375 \r\nL 29.59375 31.296875 \r\nQ 39.15625 29.25 43.1875 25.515625 \r\nQ 47.21875 21.78125 47.21875 15.09375 \r\nQ 47.21875 7.46875 41.1875 3.015625 \r\nQ 35.15625 -1.421875 24.609375 -1.421875 \r\nQ 20.21875 -1.421875 15.453125 -0.5625 \r\nQ 10.6875 0.296875 5.421875 2 \r\nL 5.421875 11.28125 \r\nQ 10.40625 8.6875 15.234375 7.390625 \r\nQ 20.0625 6.109375 24.8125 6.109375 \r\nQ 31.15625 6.109375 34.5625 8.28125 \r\nQ 37.984375 10.453125 37.984375 14.40625 \r\nQ 37.984375 18.0625 35.515625 20.015625 \r\nQ 33.0625 21.96875 24.703125 23.78125 \r\nL 21.578125 24.515625 \r\nQ 13.234375 26.265625 9.515625 29.90625 \r\nQ 5.8125 33.546875 5.8125 39.890625 \r\nQ 5.8125 47.609375 11.28125 51.796875 \r\nQ 16.75 56 26.8125 56 \r\nQ 31.78125 56 36.171875 55.265625 \r\nQ 40.578125 54.546875 44.28125 53.078125 \r\nz\r\n\" id=\"DejaVuSans-115\"/>\r\n      <path d=\"M 9.421875 54.6875 \r\nL 18.40625 54.6875 \r\nL 18.40625 0 \r\nL 9.421875 0 \r\nz\r\nM 9.421875 75.984375 \r\nL 18.40625 75.984375 \r\nL 18.40625 64.59375 \r\nL 9.421875 64.59375 \r\nz\r\n\" id=\"DejaVuSans-105\"/>\r\n      <path id=\"DejaVuSans-32\"/>\r\n      <path d=\"M 9.8125 72.90625 \r\nL 24.515625 72.90625 \r\nL 43.109375 23.296875 \r\nL 61.8125 72.90625 \r\nL 76.515625 72.90625 \r\nL 76.515625 0 \r\nL 66.890625 0 \r\nL 66.890625 64.015625 \r\nL 48.09375 14.015625 \r\nL 38.1875 14.015625 \r\nL 19.390625 64.015625 \r\nL 19.390625 0 \r\nL 9.8125 0 \r\nz\r\n\" id=\"DejaVuSans-77\"/>\r\n      <path d=\"M 34.28125 27.484375 \r\nQ 23.390625 27.484375 19.1875 25 \r\nQ 14.984375 22.515625 14.984375 16.5 \r\nQ 14.984375 11.71875 18.140625 8.90625 \r\nQ 21.296875 6.109375 26.703125 6.109375 \r\nQ 34.1875 6.109375 38.703125 11.40625 \r\nQ 43.21875 16.703125 43.21875 25.484375 \r\nL 43.21875 27.484375 \r\nz\r\nM 52.203125 31.203125 \r\nL 52.203125 0 \r\nL 43.21875 0 \r\nL 43.21875 8.296875 \r\nQ 40.140625 3.328125 35.546875 0.953125 \r\nQ 30.953125 -1.421875 24.3125 -1.421875 \r\nQ 15.921875 -1.421875 10.953125 3.296875 \r\nQ 6 8.015625 6 15.921875 \r\nQ 6 25.140625 12.171875 29.828125 \r\nQ 18.359375 34.515625 30.609375 34.515625 \r\nL 43.21875 34.515625 \r\nL 43.21875 35.40625 \r\nQ 43.21875 41.609375 39.140625 45 \r\nQ 35.0625 48.390625 27.6875 48.390625 \r\nQ 23 48.390625 18.546875 47.265625 \r\nQ 14.109375 46.140625 10.015625 43.890625 \r\nL 10.015625 52.203125 \r\nQ 14.9375 54.109375 19.578125 55.046875 \r\nQ 24.21875 56 28.609375 56 \r\nQ 40.484375 56 46.34375 49.84375 \r\nQ 52.203125 43.703125 52.203125 31.203125 \r\nz\r\n\" id=\"DejaVuSans-97\"/>\r\n      <path d=\"M 18.3125 70.21875 \r\nL 18.3125 54.6875 \r\nL 36.8125 54.6875 \r\nL 36.8125 47.703125 \r\nL 18.3125 47.703125 \r\nL 18.3125 18.015625 \r\nQ 18.3125 11.328125 20.140625 9.421875 \r\nQ 21.96875 7.515625 27.59375 7.515625 \r\nL 36.8125 7.515625 \r\nL 36.8125 0 \r\nL 27.59375 0 \r\nQ 17.1875 0 13.234375 3.875 \r\nQ 9.28125 7.765625 9.28125 18.015625 \r\nL 9.28125 47.703125 \r\nL 2.6875 47.703125 \r\nL 2.6875 54.6875 \r\nL 9.28125 54.6875 \r\nL 9.28125 70.21875 \r\nz\r\n\" id=\"DejaVuSans-116\"/>\r\n      <path d=\"M 41.109375 46.296875 \r\nQ 39.59375 47.171875 37.8125 47.578125 \r\nQ 36.03125 48 33.890625 48 \r\nQ 26.265625 48 22.1875 43.046875 \r\nQ 18.109375 38.09375 18.109375 28.8125 \r\nL 18.109375 0 \r\nL 9.078125 0 \r\nL 9.078125 54.6875 \r\nL 18.109375 54.6875 \r\nL 18.109375 46.1875 \r\nQ 20.953125 51.171875 25.484375 53.578125 \r\nQ 30.03125 56 36.53125 56 \r\nQ 37.453125 56 38.578125 55.875 \r\nQ 39.703125 55.765625 41.0625 55.515625 \r\nz\r\n\" id=\"DejaVuSans-114\"/>\r\n      <path d=\"M 54.890625 54.6875 \r\nL 35.109375 28.078125 \r\nL 55.90625 0 \r\nL 45.3125 0 \r\nL 29.390625 21.484375 \r\nL 13.484375 0 \r\nL 2.875 0 \r\nL 24.125 28.609375 \r\nL 4.6875 54.6875 \r\nL 15.28125 54.6875 \r\nL 29.78125 35.203125 \r\nL 44.28125 54.6875 \r\nz\r\n\" id=\"DejaVuSans-120\"/>\r\n      <path d=\"M 4.890625 31.390625 \r\nL 31.203125 31.390625 \r\nL 31.203125 23.390625 \r\nL 4.890625 23.390625 \r\nz\r\n\" id=\"DejaVuSans-45\"/>\r\n      <path d=\"M 48.6875 27.296875 \r\nQ 48.6875 37.203125 44.609375 42.84375 \r\nQ 40.53125 48.484375 33.40625 48.484375 \r\nQ 26.265625 48.484375 22.1875 42.84375 \r\nQ 18.109375 37.203125 18.109375 27.296875 \r\nQ 18.109375 17.390625 22.1875 11.75 \r\nQ 26.265625 6.109375 33.40625 6.109375 \r\nQ 40.53125 6.109375 44.609375 11.75 \r\nQ 48.6875 17.390625 48.6875 27.296875 \r\nz\r\nM 18.109375 46.390625 \r\nQ 20.953125 51.265625 25.265625 53.625 \r\nQ 29.59375 56 35.59375 56 \r\nQ 45.5625 56 51.78125 48.09375 \r\nQ 58.015625 40.1875 58.015625 27.296875 \r\nQ 58.015625 14.40625 51.78125 6.484375 \r\nQ 45.5625 -1.421875 35.59375 -1.421875 \r\nQ 29.59375 -1.421875 25.265625 0.953125 \r\nQ 20.953125 3.328125 18.109375 8.203125 \r\nL 18.109375 0 \r\nL 9.078125 0 \r\nL 9.078125 75.984375 \r\nL 18.109375 75.984375 \r\nz\r\n\" id=\"DejaVuSans-98\"/>\r\n      <path d=\"M 9.421875 75.984375 \r\nL 18.40625 75.984375 \r\nL 18.40625 0 \r\nL 9.421875 0 \r\nz\r\n\" id=\"DejaVuSans-108\"/>\r\n      <path d=\"M 56.203125 29.59375 \r\nL 56.203125 25.203125 \r\nL 14.890625 25.203125 \r\nQ 15.484375 15.921875 20.484375 11.0625 \r\nQ 25.484375 6.203125 34.421875 6.203125 \r\nQ 39.59375 6.203125 44.453125 7.46875 \r\nQ 49.3125 8.734375 54.109375 11.28125 \r\nL 54.109375 2.78125 \r\nQ 49.265625 0.734375 44.1875 -0.34375 \r\nQ 39.109375 -1.421875 33.890625 -1.421875 \r\nQ 20.796875 -1.421875 13.15625 6.1875 \r\nQ 5.515625 13.8125 5.515625 26.8125 \r\nQ 5.515625 40.234375 12.765625 48.109375 \r\nQ 20.015625 56 32.328125 56 \r\nQ 43.359375 56 49.78125 48.890625 \r\nQ 56.203125 41.796875 56.203125 29.59375 \r\nz\r\nM 47.21875 32.234375 \r\nQ 47.125 39.59375 43.09375 43.984375 \r\nQ 39.0625 48.390625 32.421875 48.390625 \r\nQ 24.90625 48.390625 20.390625 44.140625 \r\nQ 15.875 39.890625 15.1875 32.171875 \r\nz\r\n\" id=\"DejaVuSans-101\"/>\r\n      <path d=\"M 2.984375 54.6875 \r\nL 12.5 54.6875 \r\nL 29.59375 8.796875 \r\nL 46.6875 54.6875 \r\nL 56.203125 54.6875 \r\nL 35.6875 0 \r\nL 23.484375 0 \r\nz\r\n\" id=\"DejaVuSans-118\"/>\r\n     </defs>\r\n     <use xlink:href=\"#DejaVuSans-67\"/>\r\n     <use x=\"69.824219\" xlink:href=\"#DejaVuSans-111\"/>\r\n     <use x=\"131.005859\" xlink:href=\"#DejaVuSans-110\"/>\r\n     <use x=\"194.384766\" xlink:href=\"#DejaVuSans-102\"/>\r\n     <use x=\"229.589844\" xlink:href=\"#DejaVuSans-117\"/>\r\n     <use x=\"292.96875\" xlink:href=\"#DejaVuSans-115\"/>\r\n     <use x=\"345.068359\" xlink:href=\"#DejaVuSans-105\"/>\r\n     <use x=\"372.851562\" xlink:href=\"#DejaVuSans-111\"/>\r\n     <use x=\"434.033203\" xlink:href=\"#DejaVuSans-110\"/>\r\n     <use x=\"497.412109\" xlink:href=\"#DejaVuSans-32\"/>\r\n     <use x=\"529.199219\" xlink:href=\"#DejaVuSans-77\"/>\r\n     <use x=\"615.478516\" xlink:href=\"#DejaVuSans-97\"/>\r\n     <use x=\"676.757812\" xlink:href=\"#DejaVuSans-116\"/>\r\n     <use x=\"715.966797\" xlink:href=\"#DejaVuSans-114\"/>\r\n     <use x=\"757.080078\" xlink:href=\"#DejaVuSans-105\"/>\r\n     <use x=\"784.863281\" xlink:href=\"#DejaVuSans-120\"/>\r\n     <use x=\"844.042969\" xlink:href=\"#DejaVuSans-32\"/>\r\n     <use x=\"875.830078\" xlink:href=\"#DejaVuSans-45\"/>\r\n     <use x=\"911.914062\" xlink:href=\"#DejaVuSans-32\"/>\r\n     <use x=\"943.701172\" xlink:href=\"#DejaVuSans-97\"/>\r\n     <use x=\"1004.980469\" xlink:href=\"#DejaVuSans-98\"/>\r\n     <use x=\"1068.457031\" xlink:href=\"#DejaVuSans-115\"/>\r\n     <use x=\"1120.556641\" xlink:href=\"#DejaVuSans-111\"/>\r\n     <use x=\"1181.738281\" xlink:href=\"#DejaVuSans-108\"/>\r\n     <use x=\"1209.521484\" xlink:href=\"#DejaVuSans-117\"/>\r\n     <use x=\"1272.900391\" xlink:href=\"#DejaVuSans-116\"/>\r\n     <use x=\"1312.109375\" xlink:href=\"#DejaVuSans-101\"/>\r\n     <use x=\"1373.632812\" xlink:href=\"#DejaVuSans-32\"/>\r\n     <use x=\"1405.419922\" xlink:href=\"#DejaVuSans-118\"/>\r\n     <use x=\"1464.599609\" xlink:href=\"#DejaVuSans-97\"/>\r\n     <use x=\"1525.878906\" xlink:href=\"#DejaVuSans-108\"/>\r\n     <use x=\"1553.662109\" xlink:href=\"#DejaVuSans-117\"/>\r\n     <use x=\"1617.041016\" xlink:href=\"#DejaVuSans-101\"/>\r\n     <use x=\"1678.564453\" xlink:href=\"#DejaVuSans-115\"/>\r\n    </g>\r\n   </g>\r\n  </g>\r\n  <g id=\"axes_2\">\r\n   <g id=\"patch_3\">\r\n    <path d=\"M 23.878125 402.838125 \r\nL 336.358125 402.838125 \r\nL 336.358125 229.874489 \r\nL 23.878125 229.874489 \r\nz\r\n\" style=\"fill:#ffffff;\"/>\r\n   </g>\r\n   <g id=\"QuadMesh_2\">\r\n    <path clip-path=\"url(#pf099a482e8)\" d=\"M 23.878125 229.874489 \r\nL 180.118125 229.874489 \r\nL 180.118125 316.356307 \r\nL 23.878125 316.356307 \r\nL 23.878125 229.874489 \r\n\" style=\"fill:#61a7d2;\"/>\r\n    <path clip-path=\"url(#pf099a482e8)\" d=\"M 180.118125 229.874489 \r\nL 336.358125 229.874489 \r\nL 336.358125 316.356307 \r\nL 180.118125 316.356307 \r\nL 180.118125 229.874489 \r\n\" style=\"fill:#cfe1f2;\"/>\r\n    <path clip-path=\"url(#pf099a482e8)\" d=\"M 23.878125 316.356307 \r\nL 180.118125 316.356307 \r\nL 180.118125 402.838125 \r\nL 23.878125 402.838125 \r\nL 23.878125 316.356307 \r\n\" style=\"fill:#f7fbff;\"/>\r\n    <path clip-path=\"url(#pf099a482e8)\" d=\"M 180.118125 316.356307 \r\nL 336.358125 316.356307 \r\nL 336.358125 402.838125 \r\nL 180.118125 402.838125 \r\nL 180.118125 316.356307 \r\n\" style=\"fill:#08306b;\"/>\r\n   </g>\r\n   <g id=\"matplotlib.axis_3\">\r\n    <g id=\"xtick_3\">\r\n     <g id=\"line2d_5\">\r\n      <g>\r\n       <use style=\"stroke:#000000;stroke-width:0.8;\" x=\"101.998125\" xlink:href=\"#m1c508236e8\" y=\"402.838125\"/>\r\n      </g>\r\n     </g>\r\n     <g id=\"text_10\">\r\n      <!-- 0 -->\r\n      <g transform=\"translate(98.816875 417.436562)scale(0.1 -0.1)\">\r\n       <use xlink:href=\"#DejaVuSans-48\"/>\r\n      </g>\r\n     </g>\r\n    </g>\r\n    <g id=\"xtick_4\">\r\n     <g id=\"line2d_6\">\r\n      <g>\r\n       <use style=\"stroke:#000000;stroke-width:0.8;\" x=\"258.238125\" xlink:href=\"#m1c508236e8\" y=\"402.838125\"/>\r\n      </g>\r\n     </g>\r\n     <g id=\"text_11\">\r\n      <!-- 1 -->\r\n      <g transform=\"translate(255.056875 417.436562)scale(0.1 -0.1)\">\r\n       <use xlink:href=\"#DejaVuSans-49\"/>\r\n      </g>\r\n     </g>\r\n    </g>\r\n   </g>\r\n   <g id=\"matplotlib.axis_4\">\r\n    <g id=\"ytick_3\">\r\n     <g id=\"line2d_7\">\r\n      <g>\r\n       <use style=\"stroke:#000000;stroke-width:0.8;\" x=\"23.878125\" xlink:href=\"#m4036468491\" y=\"273.115398\"/>\r\n      </g>\r\n     </g>\r\n     <g id=\"text_12\">\r\n      <!-- 0 -->\r\n      <g transform=\"translate(14.798438 275.678679)rotate(-90)scale(0.1 -0.1)\">\r\n       <use xlink:href=\"#DejaVuSans-48\"/>\r\n      </g>\r\n     </g>\r\n    </g>\r\n    <g id=\"ytick_4\">\r\n     <g id=\"line2d_8\">\r\n      <g>\r\n       <use style=\"stroke:#000000;stroke-width:0.8;\" x=\"23.878125\" xlink:href=\"#m4036468491\" y=\"359.597216\"/>\r\n      </g>\r\n     </g>\r\n     <g id=\"text_13\">\r\n      <!-- 1 -->\r\n      <g transform=\"translate(14.798438 362.160497)rotate(-90)scale(0.1 -0.1)\">\r\n       <use xlink:href=\"#DejaVuSans-49\"/>\r\n      </g>\r\n     </g>\r\n    </g>\r\n   </g>\r\n   <g id=\"text_14\">\r\n    <!-- 27.48% -->\r\n    <g style=\"fill:#ffffff;\" transform=\"translate(82.933281 275.874773)scale(0.1 -0.1)\">\r\n     <defs>\r\n      <path d=\"M 8.203125 72.90625 \r\nL 55.078125 72.90625 \r\nL 55.078125 68.703125 \r\nL 28.609375 0 \r\nL 18.3125 0 \r\nL 43.21875 64.59375 \r\nL 8.203125 64.59375 \r\nz\r\n\" id=\"DejaVuSans-55\"/>\r\n      <path d=\"M 10.6875 12.40625 \r\nL 21 12.40625 \r\nL 21 0 \r\nL 10.6875 0 \r\nz\r\n\" id=\"DejaVuSans-46\"/>\r\n      <path d=\"M 37.796875 64.3125 \r\nL 12.890625 25.390625 \r\nL 37.796875 25.390625 \r\nz\r\nM 35.203125 72.90625 \r\nL 47.609375 72.90625 \r\nL 47.609375 25.390625 \r\nL 58.015625 25.390625 \r\nL 58.015625 17.1875 \r\nL 47.609375 17.1875 \r\nL 47.609375 0 \r\nL 37.796875 0 \r\nL 37.796875 17.1875 \r\nL 4.890625 17.1875 \r\nL 4.890625 26.703125 \r\nz\r\n\" id=\"DejaVuSans-52\"/>\r\n      <path d=\"M 72.703125 32.078125 \r\nQ 68.453125 32.078125 66.03125 28.46875 \r\nQ 63.625 24.859375 63.625 18.40625 \r\nQ 63.625 12.0625 66.03125 8.421875 \r\nQ 68.453125 4.78125 72.703125 4.78125 \r\nQ 76.859375 4.78125 79.265625 8.421875 \r\nQ 81.6875 12.0625 81.6875 18.40625 \r\nQ 81.6875 24.8125 79.265625 28.4375 \r\nQ 76.859375 32.078125 72.703125 32.078125 \r\nz\r\nM 72.703125 38.28125 \r\nQ 80.421875 38.28125 84.953125 32.90625 \r\nQ 89.5 27.546875 89.5 18.40625 \r\nQ 89.5 9.28125 84.9375 3.921875 \r\nQ 80.375 -1.421875 72.703125 -1.421875 \r\nQ 64.890625 -1.421875 60.34375 3.921875 \r\nQ 55.8125 9.28125 55.8125 18.40625 \r\nQ 55.8125 27.59375 60.375 32.9375 \r\nQ 64.9375 38.28125 72.703125 38.28125 \r\nz\r\nM 22.3125 68.015625 \r\nQ 18.109375 68.015625 15.6875 64.375 \r\nQ 13.28125 60.75 13.28125 54.390625 \r\nQ 13.28125 47.953125 15.671875 44.328125 \r\nQ 18.0625 40.71875 22.3125 40.71875 \r\nQ 26.5625 40.71875 28.96875 44.328125 \r\nQ 31.390625 47.953125 31.390625 54.390625 \r\nQ 31.390625 60.6875 28.953125 64.34375 \r\nQ 26.515625 68.015625 22.3125 68.015625 \r\nz\r\nM 66.40625 74.21875 \r\nL 74.21875 74.21875 \r\nL 28.609375 -1.421875 \r\nL 20.796875 -1.421875 \r\nz\r\nM 22.3125 74.21875 \r\nQ 30.03125 74.21875 34.609375 68.875 \r\nQ 39.203125 63.53125 39.203125 54.390625 \r\nQ 39.203125 45.171875 34.640625 39.84375 \r\nQ 30.078125 34.515625 22.3125 34.515625 \r\nQ 14.546875 34.515625 10.03125 39.859375 \r\nQ 5.515625 45.21875 5.515625 54.390625 \r\nQ 5.515625 63.484375 10.046875 68.84375 \r\nQ 14.59375 74.21875 22.3125 74.21875 \r\nz\r\n\" id=\"DejaVuSans-37\"/>\r\n     </defs>\r\n     <use xlink:href=\"#DejaVuSans-50\"/>\r\n     <use x=\"63.623047\" xlink:href=\"#DejaVuSans-55\"/>\r\n     <use x=\"127.246094\" xlink:href=\"#DejaVuSans-46\"/>\r\n     <use x=\"159.033203\" xlink:href=\"#DejaVuSans-52\"/>\r\n     <use x=\"222.65625\" xlink:href=\"#DejaVuSans-56\"/>\r\n     <use x=\"286.279297\" xlink:href=\"#DejaVuSans-37\"/>\r\n    </g>\r\n   </g>\r\n   <g id=\"text_15\">\r\n    <!-- 19.08% -->\r\n    <g style=\"fill:#262626;\" transform=\"translate(239.173281 275.874773)scale(0.1 -0.1)\">\r\n     <defs>\r\n      <path d=\"M 10.984375 1.515625 \r\nL 10.984375 10.5 \r\nQ 14.703125 8.734375 18.5 7.8125 \r\nQ 22.3125 6.890625 25.984375 6.890625 \r\nQ 35.75 6.890625 40.890625 13.453125 \r\nQ 46.046875 20.015625 46.78125 33.40625 \r\nQ 43.953125 29.203125 39.59375 26.953125 \r\nQ 35.25 24.703125 29.984375 24.703125 \r\nQ 19.046875 24.703125 12.671875 31.3125 \r\nQ 6.296875 37.9375 6.296875 49.421875 \r\nQ 6.296875 60.640625 12.9375 67.421875 \r\nQ 19.578125 74.21875 30.609375 74.21875 \r\nQ 43.265625 74.21875 49.921875 64.515625 \r\nQ 56.59375 54.828125 56.59375 36.375 \r\nQ 56.59375 19.140625 48.40625 8.859375 \r\nQ 40.234375 -1.421875 26.421875 -1.421875 \r\nQ 22.703125 -1.421875 18.890625 -0.6875 \r\nQ 15.09375 0.046875 10.984375 1.515625 \r\nz\r\nM 30.609375 32.421875 \r\nQ 37.25 32.421875 41.125 36.953125 \r\nQ 45.015625 41.5 45.015625 49.421875 \r\nQ 45.015625 57.28125 41.125 61.84375 \r\nQ 37.25 66.40625 30.609375 66.40625 \r\nQ 23.96875 66.40625 20.09375 61.84375 \r\nQ 16.21875 57.28125 16.21875 49.421875 \r\nQ 16.21875 41.5 20.09375 36.953125 \r\nQ 23.96875 32.421875 30.609375 32.421875 \r\nz\r\n\" id=\"DejaVuSans-57\"/>\r\n     </defs>\r\n     <use xlink:href=\"#DejaVuSans-49\"/>\r\n     <use x=\"63.623047\" xlink:href=\"#DejaVuSans-57\"/>\r\n     <use x=\"127.246094\" xlink:href=\"#DejaVuSans-46\"/>\r\n     <use x=\"159.033203\" xlink:href=\"#DejaVuSans-48\"/>\r\n     <use x=\"222.65625\" xlink:href=\"#DejaVuSans-56\"/>\r\n     <use x=\"286.279297\" xlink:href=\"#DejaVuSans-37\"/>\r\n    </g>\r\n   </g>\r\n   <g id=\"text_16\">\r\n    <!-- 13.74% -->\r\n    <g style=\"fill:#262626;\" transform=\"translate(82.933281 362.356591)scale(0.1 -0.1)\">\r\n     <use xlink:href=\"#DejaVuSans-49\"/>\r\n     <use x=\"63.623047\" xlink:href=\"#DejaVuSans-51\"/>\r\n     <use x=\"127.246094\" xlink:href=\"#DejaVuSans-46\"/>\r\n     <use x=\"159.033203\" xlink:href=\"#DejaVuSans-55\"/>\r\n     <use x=\"222.65625\" xlink:href=\"#DejaVuSans-52\"/>\r\n     <use x=\"286.279297\" xlink:href=\"#DejaVuSans-37\"/>\r\n    </g>\r\n   </g>\r\n   <g id=\"text_17\">\r\n    <!-- 39.69% -->\r\n    <g style=\"fill:#ffffff;\" transform=\"translate(239.173281 362.356591)scale(0.1 -0.1)\">\r\n     <use xlink:href=\"#DejaVuSans-51\"/>\r\n     <use x=\"63.623047\" xlink:href=\"#DejaVuSans-57\"/>\r\n     <use x=\"127.246094\" xlink:href=\"#DejaVuSans-46\"/>\r\n     <use x=\"159.033203\" xlink:href=\"#DejaVuSans-54\"/>\r\n     <use x=\"222.65625\" xlink:href=\"#DejaVuSans-57\"/>\r\n     <use x=\"286.279297\" xlink:href=\"#DejaVuSans-37\"/>\r\n    </g>\r\n   </g>\r\n   <g id=\"text_18\">\r\n    <!-- Confusion Matrix - relative values -->\r\n    <g transform=\"translate(79.446563 223.874489)scale(0.12 -0.12)\">\r\n     <use xlink:href=\"#DejaVuSans-67\"/>\r\n     <use x=\"69.824219\" xlink:href=\"#DejaVuSans-111\"/>\r\n     <use x=\"131.005859\" xlink:href=\"#DejaVuSans-110\"/>\r\n     <use x=\"194.384766\" xlink:href=\"#DejaVuSans-102\"/>\r\n     <use x=\"229.589844\" xlink:href=\"#DejaVuSans-117\"/>\r\n     <use x=\"292.96875\" xlink:href=\"#DejaVuSans-115\"/>\r\n     <use x=\"345.068359\" xlink:href=\"#DejaVuSans-105\"/>\r\n     <use x=\"372.851562\" xlink:href=\"#DejaVuSans-111\"/>\r\n     <use x=\"434.033203\" xlink:href=\"#DejaVuSans-110\"/>\r\n     <use x=\"497.412109\" xlink:href=\"#DejaVuSans-32\"/>\r\n     <use x=\"529.199219\" xlink:href=\"#DejaVuSans-77\"/>\r\n     <use x=\"615.478516\" xlink:href=\"#DejaVuSans-97\"/>\r\n     <use x=\"676.757812\" xlink:href=\"#DejaVuSans-116\"/>\r\n     <use x=\"715.966797\" xlink:href=\"#DejaVuSans-114\"/>\r\n     <use x=\"757.080078\" xlink:href=\"#DejaVuSans-105\"/>\r\n     <use x=\"784.863281\" xlink:href=\"#DejaVuSans-120\"/>\r\n     <use x=\"844.042969\" xlink:href=\"#DejaVuSans-32\"/>\r\n     <use x=\"875.830078\" xlink:href=\"#DejaVuSans-45\"/>\r\n     <use x=\"911.914062\" xlink:href=\"#DejaVuSans-32\"/>\r\n     <use x=\"943.701172\" xlink:href=\"#DejaVuSans-114\"/>\r\n     <use x=\"982.564453\" xlink:href=\"#DejaVuSans-101\"/>\r\n     <use x=\"1044.087891\" xlink:href=\"#DejaVuSans-108\"/>\r\n     <use x=\"1071.871094\" xlink:href=\"#DejaVuSans-97\"/>\r\n     <use x=\"1133.150391\" xlink:href=\"#DejaVuSans-116\"/>\r\n     <use x=\"1172.359375\" xlink:href=\"#DejaVuSans-105\"/>\r\n     <use x=\"1200.142578\" xlink:href=\"#DejaVuSans-118\"/>\r\n     <use x=\"1259.322266\" xlink:href=\"#DejaVuSans-101\"/>\r\n     <use x=\"1320.845703\" xlink:href=\"#DejaVuSans-32\"/>\r\n     <use x=\"1352.632812\" xlink:href=\"#DejaVuSans-118\"/>\r\n     <use x=\"1411.8125\" xlink:href=\"#DejaVuSans-97\"/>\r\n     <use x=\"1473.091797\" xlink:href=\"#DejaVuSans-108\"/>\r\n     <use x=\"1500.875\" xlink:href=\"#DejaVuSans-117\"/>\r\n     <use x=\"1564.253906\" xlink:href=\"#DejaVuSans-101\"/>\r\n     <use x=\"1625.777344\" xlink:href=\"#DejaVuSans-115\"/>\r\n    </g>\r\n   </g>\r\n  </g>\r\n  <g id=\"axes_3\">\r\n   <g id=\"patch_4\">\r\n    <path clip-path=\"url(#p109e88cc07)\" d=\"M 355.888125 195.281761 \r\nL 355.888125 194.606122 \r\nL 355.888125 22.993764 \r\nL 355.888125 22.318125 \r\nL 364.536307 22.318125 \r\nL 364.536307 22.993764 \r\nL 364.536307 194.606122 \r\nL 364.536307 195.281761 \r\nz\r\n\" style=\"fill:#ffffff;stroke:#ffffff;stroke-linejoin:miter;stroke-width:0.01;\"/>\r\n   </g>\r\n   <image height=\"173\" id=\"image1a15c83872\" transform=\"scale(1 -1)translate(0 -173)\" width=\"9\" x=\"356\" xlink:href=\"data:image/png;base64,\r\niVBORw0KGgoAAAANSUhEUgAAAAkAAACtCAYAAABiHFXoAAAA5UlEQVR4nO2YQQ6EMAwDy6r//y6HJek+IXMYRV1UzpaxndQVXPd3rVE8M2vMmKPGjJkEtADVBJIgiLj71Dw0J084ygklDmdH3NVEOALrde9e35PTyam9VbRiFSMIrX0ZE2rfBK9L1uPN7jQmtgUERDQlWKhud+Fdr4TpQRFoq4JOcBBN3Uw7Jo7c1UR/nTg5UlriqDDgVabdd4hJG4vorvcgwPbdUFPv+nr7ZDKVmD01tUdQ173ZdBqoecBLXBWUeKum4w4yaRGwD/gtw0TuCCiDMJG/IfloTEhTsztNU7za3X4D/gEaa6Fh8W1w1QAAAABJRU5ErkJggg==\" y=\"-22\"/>\r\n   <g id=\"matplotlib.axis_5\"/>\r\n   <g id=\"matplotlib.axis_6\">\r\n    <g id=\"ytick_5\">\r\n     <g id=\"line2d_9\">\r\n      <defs>\r\n       <path d=\"M 0 0 \r\nL 3.5 0 \r\n\" id=\"md5bc38687c\" style=\"stroke:#000000;stroke-width:0.8;\"/>\r\n      </defs>\r\n      <g>\r\n       <use style=\"stroke:#000000;stroke-width:0.8;\" x=\"364.536307\" xlink:href=\"#md5bc38687c\" y=\"185.10743\"/>\r\n      </g>\r\n     </g>\r\n     <g id=\"text_19\">\r\n      <!-- 20 -->\r\n      <g transform=\"translate(371.536307 188.906649)scale(0.1 -0.1)\">\r\n       <use xlink:href=\"#DejaVuSans-50\"/>\r\n       <use x=\"63.623047\" xlink:href=\"#DejaVuSans-48\"/>\r\n      </g>\r\n     </g>\r\n    </g>\r\n    <g id=\"ytick_6\">\r\n     <g id=\"line2d_10\">\r\n      <g>\r\n       <use style=\"stroke:#000000;stroke-width:0.8;\" x=\"364.536307\" xlink:href=\"#md5bc38687c\" y=\"159.671601\"/>\r\n      </g>\r\n     </g>\r\n     <g id=\"text_20\">\r\n      <!-- 25 -->\r\n      <g transform=\"translate(371.536307 163.47082)scale(0.1 -0.1)\">\r\n       <use xlink:href=\"#DejaVuSans-50\"/>\r\n       <use x=\"63.623047\" xlink:href=\"#DejaVuSans-53\"/>\r\n      </g>\r\n     </g>\r\n    </g>\r\n    <g id=\"ytick_7\">\r\n     <g id=\"line2d_11\">\r\n      <g>\r\n       <use style=\"stroke:#000000;stroke-width:0.8;\" x=\"364.536307\" xlink:href=\"#md5bc38687c\" y=\"134.235772\"/>\r\n      </g>\r\n     </g>\r\n     <g id=\"text_21\">\r\n      <!-- 30 -->\r\n      <g transform=\"translate(371.536307 138.034991)scale(0.1 -0.1)\">\r\n       <use xlink:href=\"#DejaVuSans-51\"/>\r\n       <use x=\"63.623047\" xlink:href=\"#DejaVuSans-48\"/>\r\n      </g>\r\n     </g>\r\n    </g>\r\n    <g id=\"ytick_8\">\r\n     <g id=\"line2d_12\">\r\n      <g>\r\n       <use style=\"stroke:#000000;stroke-width:0.8;\" x=\"364.536307\" xlink:href=\"#md5bc38687c\" y=\"108.799943\"/>\r\n      </g>\r\n     </g>\r\n     <g id=\"text_22\">\r\n      <!-- 35 -->\r\n      <g transform=\"translate(371.536307 112.599162)scale(0.1 -0.1)\">\r\n       <use xlink:href=\"#DejaVuSans-51\"/>\r\n       <use x=\"63.623047\" xlink:href=\"#DejaVuSans-53\"/>\r\n      </g>\r\n     </g>\r\n    </g>\r\n    <g id=\"ytick_9\">\r\n     <g id=\"line2d_13\">\r\n      <g>\r\n       <use style=\"stroke:#000000;stroke-width:0.8;\" x=\"364.536307\" xlink:href=\"#md5bc38687c\" y=\"83.364114\"/>\r\n      </g>\r\n     </g>\r\n     <g id=\"text_23\">\r\n      <!-- 40 -->\r\n      <g transform=\"translate(371.536307 87.163333)scale(0.1 -0.1)\">\r\n       <use xlink:href=\"#DejaVuSans-52\"/>\r\n       <use x=\"63.623047\" xlink:href=\"#DejaVuSans-48\"/>\r\n      </g>\r\n     </g>\r\n    </g>\r\n    <g id=\"ytick_10\">\r\n     <g id=\"line2d_14\">\r\n      <g>\r\n       <use style=\"stroke:#000000;stroke-width:0.8;\" x=\"364.536307\" xlink:href=\"#md5bc38687c\" y=\"57.928285\"/>\r\n      </g>\r\n     </g>\r\n     <g id=\"text_24\">\r\n      <!-- 45 -->\r\n      <g transform=\"translate(371.536307 61.727504)scale(0.1 -0.1)\">\r\n       <use xlink:href=\"#DejaVuSans-52\"/>\r\n       <use x=\"63.623047\" xlink:href=\"#DejaVuSans-53\"/>\r\n      </g>\r\n     </g>\r\n    </g>\r\n    <g id=\"ytick_11\">\r\n     <g id=\"line2d_15\">\r\n      <g>\r\n       <use style=\"stroke:#000000;stroke-width:0.8;\" x=\"364.536307\" xlink:href=\"#md5bc38687c\" y=\"32.492457\"/>\r\n      </g>\r\n     </g>\r\n     <g id=\"text_25\">\r\n      <!-- 50 -->\r\n      <g transform=\"translate(371.536307 36.291675)scale(0.1 -0.1)\">\r\n       <use xlink:href=\"#DejaVuSans-53\"/>\r\n       <use x=\"63.623047\" xlink:href=\"#DejaVuSans-48\"/>\r\n      </g>\r\n     </g>\r\n    </g>\r\n   </g>\r\n   <g id=\"patch_5\">\r\n    <path d=\"M 355.888125 195.281761 \r\nL 355.888125 194.606122 \r\nL 355.888125 22.993764 \r\nL 355.888125 22.318125 \r\nL 364.536307 22.318125 \r\nL 364.536307 22.993764 \r\nL 364.536307 194.606122 \r\nL 364.536307 195.281761 \r\nz\r\n\" style=\"fill:none;\"/>\r\n   </g>\r\n  </g>\r\n  <g id=\"axes_4\">\r\n   <g id=\"patch_6\">\r\n    <path clip-path=\"url(#pb15aeae3a1)\" d=\"M 355.888125 402.838125 \r\nL 355.888125 402.162486 \r\nL 355.888125 230.550128 \r\nL 355.888125 229.874489 \r\nL 364.536307 229.874489 \r\nL 364.536307 230.550128 \r\nL 364.536307 402.162486 \r\nL 364.536307 402.838125 \r\nz\r\n\" style=\"fill:#ffffff;stroke:#ffffff;stroke-linejoin:miter;stroke-width:0.01;\"/>\r\n   </g>\r\n   <image height=\"173\" id=\"image92c1e73083\" transform=\"scale(1 -1)translate(0 -173)\" width=\"9\" x=\"356\" xlink:href=\"data:image/png;base64,\r\niVBORw0KGgoAAAANSUhEUgAAAAkAAACtCAYAAABiHFXoAAAA4ElEQVR4nO2YQQ7EMAgDWYn/P7eH1Qb2CczBspIqPSNjbOK0/Tzf7hie7Lkmci6JyCJIAaCySFEDqASUaBFph4hDCVS2MINltoRMJ+jdXd+r07VFaMvyckK2wDgERWw6nU6y6UoYrDKd5m7Sdt71FXICvrAtWAXaoVVhSDJOaAt+CGnD6RiSLAt0iqPAYOs7A0WW7CAgJGWOI1usgWEOVrN3wveCU73T2cKywI001lxOeH3B5XLudC3kNN9T7DPJ3A4hHSvmsdOZOUUtUCREIga7kdCPDm+79Woxd+QE2v0BhF2cY01AQOkAAAAASUVORK5CYII=\" y=\"-229\"/>\r\n   <g id=\"matplotlib.axis_7\"/>\r\n   <g id=\"matplotlib.axis_8\">\r\n    <g id=\"ytick_12\">\r\n     <g id=\"line2d_16\">\r\n      <g>\r\n       <use style=\"stroke:#000000;stroke-width:0.8;\" x=\"364.536307\" xlink:href=\"#md5bc38687c\" y=\"394.444301\"/>\r\n      </g>\r\n     </g>\r\n     <g id=\"text_26\">\r\n      <!-- 0.15 -->\r\n      <g transform=\"translate(371.536307 398.24352)scale(0.1 -0.1)\">\r\n       <use xlink:href=\"#DejaVuSans-48\"/>\r\n       <use x=\"63.623047\" xlink:href=\"#DejaVuSans-46\"/>\r\n       <use x=\"95.410156\" xlink:href=\"#DejaVuSans-49\"/>\r\n       <use x=\"159.033203\" xlink:href=\"#DejaVuSans-53\"/>\r\n      </g>\r\n     </g>\r\n    </g>\r\n    <g id=\"ytick_13\">\r\n     <g id=\"line2d_17\">\r\n      <g>\r\n       <use style=\"stroke:#000000;stroke-width:0.8;\" x=\"364.536307\" xlink:href=\"#md5bc38687c\" y=\"361.123366\"/>\r\n      </g>\r\n     </g>\r\n     <g id=\"text_27\">\r\n      <!-- 0.20 -->\r\n      <g transform=\"translate(371.536307 364.922584)scale(0.1 -0.1)\">\r\n       <use xlink:href=\"#DejaVuSans-48\"/>\r\n       <use x=\"63.623047\" xlink:href=\"#DejaVuSans-46\"/>\r\n       <use x=\"95.410156\" xlink:href=\"#DejaVuSans-50\"/>\r\n       <use x=\"159.033203\" xlink:href=\"#DejaVuSans-48\"/>\r\n      </g>\r\n     </g>\r\n    </g>\r\n    <g id=\"ytick_14\">\r\n     <g id=\"line2d_18\">\r\n      <g>\r\n       <use style=\"stroke:#000000;stroke-width:0.8;\" x=\"364.536307\" xlink:href=\"#md5bc38687c\" y=\"327.80243\"/>\r\n      </g>\r\n     </g>\r\n     <g id=\"text_28\">\r\n      <!-- 0.25 -->\r\n      <g transform=\"translate(371.536307 331.601649)scale(0.1 -0.1)\">\r\n       <use xlink:href=\"#DejaVuSans-48\"/>\r\n       <use x=\"63.623047\" xlink:href=\"#DejaVuSans-46\"/>\r\n       <use x=\"95.410156\" xlink:href=\"#DejaVuSans-50\"/>\r\n       <use x=\"159.033203\" xlink:href=\"#DejaVuSans-53\"/>\r\n      </g>\r\n     </g>\r\n    </g>\r\n    <g id=\"ytick_15\">\r\n     <g id=\"line2d_19\">\r\n      <g>\r\n       <use style=\"stroke:#000000;stroke-width:0.8;\" x=\"364.536307\" xlink:href=\"#md5bc38687c\" y=\"294.481494\"/>\r\n      </g>\r\n     </g>\r\n     <g id=\"text_29\">\r\n      <!-- 0.30 -->\r\n      <g transform=\"translate(371.536307 298.280713)scale(0.1 -0.1)\">\r\n       <use xlink:href=\"#DejaVuSans-48\"/>\r\n       <use x=\"63.623047\" xlink:href=\"#DejaVuSans-46\"/>\r\n       <use x=\"95.410156\" xlink:href=\"#DejaVuSans-51\"/>\r\n       <use x=\"159.033203\" xlink:href=\"#DejaVuSans-48\"/>\r\n      </g>\r\n     </g>\r\n    </g>\r\n    <g id=\"ytick_16\">\r\n     <g id=\"line2d_20\">\r\n      <g>\r\n       <use style=\"stroke:#000000;stroke-width:0.8;\" x=\"364.536307\" xlink:href=\"#md5bc38687c\" y=\"261.160558\"/>\r\n      </g>\r\n     </g>\r\n     <g id=\"text_30\">\r\n      <!-- 0.35 -->\r\n      <g transform=\"translate(371.536307 264.959777)scale(0.1 -0.1)\">\r\n       <use xlink:href=\"#DejaVuSans-48\"/>\r\n       <use x=\"63.623047\" xlink:href=\"#DejaVuSans-46\"/>\r\n       <use x=\"95.410156\" xlink:href=\"#DejaVuSans-51\"/>\r\n       <use x=\"159.033203\" xlink:href=\"#DejaVuSans-53\"/>\r\n      </g>\r\n     </g>\r\n    </g>\r\n   </g>\r\n   <g id=\"patch_7\">\r\n    <path d=\"M 355.888125 402.838125 \r\nL 355.888125 402.162486 \r\nL 355.888125 230.550128 \r\nL 355.888125 229.874489 \r\nL 364.536307 229.874489 \r\nL 364.536307 230.550128 \r\nL 364.536307 402.162486 \r\nL 364.536307 402.838125 \r\nz\r\n\" style=\"fill:none;\"/>\r\n   </g>\r\n  </g>\r\n </g>\r\n <defs>\r\n  <clipPath id=\"pa3860d454c\">\r\n   <rect height=\"172.963636\" width=\"312.48\" x=\"23.878125\" y=\"22.318125\"/>\r\n  </clipPath>\r\n  <clipPath id=\"pf099a482e8\">\r\n   <rect height=\"172.963636\" width=\"312.48\" x=\"23.878125\" y=\"229.874489\"/>\r\n  </clipPath>\r\n  <clipPath id=\"p109e88cc07\">\r\n   <rect height=\"172.963636\" width=\"8.648182\" x=\"355.888125\" y=\"22.318125\"/>\r\n  </clipPath>\r\n  <clipPath id=\"pb15aeae3a1\">\r\n   <rect height=\"172.963636\" width=\"8.648182\" x=\"355.888125\" y=\"229.874489\"/>\r\n  </clipPath>\r\n </defs>\r\n</svg>\r\n",
      "image/png": "[encoded data removed]"
     },
     "metadata": {
      "needs_background": "light"
     }
    }
   ],
   "source": [
    "#RANDOM FOREST\n",
    "#Initiate Random Forest algorithm\n",
    "random_forest = RandomForestClassifier(n_estimators = 100, random_state = 0)\n",
    "\n",
    "#Fit the model\n",
    "random_forest.fit(X_train, y_train)\n",
    "#Predict outcomes\n",
    "y_pred = random_forest.predict(X_test)\n",
    "#Validate model\n",
    "print(metrics.classification_report(y_test, y_pred))\n",
    "print(\"Confusion Matrix:\", '\\n',metrics.confusion_matrix(y_test, y_pred))\n",
    "\n",
    "#Add visualisation of confusion matrix\n",
    "cf_matrix = metrics.confusion_matrix(y_test, y_pred)\n",
    "fig, (ax1, ax2) = plt.subplots(2, figsize = (7,7))\n",
    "sns.heatmap(cf_matrix, annot=True, cmap='Blues', ax = ax1)\n",
    "sns.heatmap(cf_matrix/np.sum(cf_matrix), annot=True, fmt='.2%', cmap='Blues', ax=ax2)\n",
    "ax1.set_title('Confusion Matrix - absolute values')\n",
    "ax2.set_title('Confusion Matrix - relative values')\n",
    "plt.show()"
   ]
  },
  {
   "source": [
    "The results show that the Random Forest algorithm achieves an accuracy of 67% for predicting an increase of the Dow Jones Industrial Average. Inspecting the output of the confusinon matrix in closer detail reveals that the algorithm achieves better results in predicting a decrease of the Dow Jones Industrial Average. However, the results are not accurate enough to support investments in the stock market. Furthermore, the explanatory variables cover the same time period as the Dow Jones Industrial Average. I a real life situation, predictions have to be made with explanatory variables that cover past development. Therefore it can be assumed that the accurcay of the Random Forest algorithm would further decline when applied to live data."
   ],
   "cell_type": "markdown",
   "metadata": {}
  },
  {
   "cell_type": "code",
   "execution_count": 31,
   "metadata": {},
   "outputs": [
    {
     "output_type": "error",
     "ename": "ValueError",
     "evalue": "Negative values in data passed to CategoricalNB (input X)",
     "traceback": [
      "\u001b[1;31m---------------------------------------------------------------------------\u001b[0m",
      "\u001b[1;31mValueError\u001b[0m                                Traceback (most recent call last)",
      "\u001b[1;32m<ipython-input-31-a742073ee01d>\u001b[0m in \u001b[0;36m<module>\u001b[1;34m\u001b[0m\n\u001b[0;32m      4\u001b[0m \u001b[1;33m\u001b[0m\u001b[0m\n\u001b[0;32m      5\u001b[0m \u001b[1;31m#Train Naive Bayes Classifer\u001b[0m\u001b[1;33m\u001b[0m\u001b[1;33m\u001b[0m\u001b[1;33m\u001b[0m\u001b[0m\n\u001b[1;32m----> 6\u001b[1;33m \u001b[0mnaive_bayes\u001b[0m \u001b[1;33m=\u001b[0m \u001b[0mnaive_bayes\u001b[0m\u001b[1;33m.\u001b[0m\u001b[0mfit\u001b[0m\u001b[1;33m(\u001b[0m\u001b[0mX_train\u001b[0m\u001b[1;33m,\u001b[0m\u001b[0my_train\u001b[0m\u001b[1;33m)\u001b[0m\u001b[1;33m\u001b[0m\u001b[1;33m\u001b[0m\u001b[0m\n\u001b[0m",
      "\u001b[1;32m~\\anaconda3\\envs\\NLTK_env\\lib\\site-packages\\sklearn\\naive_bayes.py\u001b[0m in \u001b[0;36mfit\u001b[1;34m(self, X, y, sample_weight)\u001b[0m\n\u001b[0;32m   1164\u001b[0m         \u001b[0mself\u001b[0m \u001b[1;33m:\u001b[0m \u001b[0mobject\u001b[0m\u001b[1;33m\u001b[0m\u001b[1;33m\u001b[0m\u001b[0m\n\u001b[0;32m   1165\u001b[0m         \"\"\"\n\u001b[1;32m-> 1166\u001b[1;33m         \u001b[1;32mreturn\u001b[0m \u001b[0msuper\u001b[0m\u001b[1;33m(\u001b[0m\u001b[1;33m)\u001b[0m\u001b[1;33m.\u001b[0m\u001b[0mfit\u001b[0m\u001b[1;33m(\u001b[0m\u001b[0mX\u001b[0m\u001b[1;33m,\u001b[0m \u001b[0my\u001b[0m\u001b[1;33m,\u001b[0m \u001b[0msample_weight\u001b[0m\u001b[1;33m=\u001b[0m\u001b[0msample_weight\u001b[0m\u001b[1;33m)\u001b[0m\u001b[1;33m\u001b[0m\u001b[1;33m\u001b[0m\u001b[0m\n\u001b[0m\u001b[0;32m   1167\u001b[0m \u001b[1;33m\u001b[0m\u001b[0m\n\u001b[0;32m   1168\u001b[0m     \u001b[1;32mdef\u001b[0m \u001b[0mpartial_fit\u001b[0m\u001b[1;33m(\u001b[0m\u001b[0mself\u001b[0m\u001b[1;33m,\u001b[0m \u001b[0mX\u001b[0m\u001b[1;33m,\u001b[0m \u001b[0my\u001b[0m\u001b[1;33m,\u001b[0m \u001b[0mclasses\u001b[0m\u001b[1;33m=\u001b[0m\u001b[1;32mNone\u001b[0m\u001b[1;33m,\u001b[0m \u001b[0msample_weight\u001b[0m\u001b[1;33m=\u001b[0m\u001b[1;32mNone\u001b[0m\u001b[1;33m)\u001b[0m\u001b[1;33m:\u001b[0m\u001b[1;33m\u001b[0m\u001b[1;33m\u001b[0m\u001b[0m\n",
      "\u001b[1;32m~\\anaconda3\\envs\\NLTK_env\\lib\\site-packages\\sklearn\\naive_bayes.py\u001b[0m in \u001b[0;36mfit\u001b[1;34m(self, X, y, sample_weight)\u001b[0m\n\u001b[0;32m    610\u001b[0m         \u001b[0mself\u001b[0m \u001b[1;33m:\u001b[0m \u001b[0mobject\u001b[0m\u001b[1;33m\u001b[0m\u001b[1;33m\u001b[0m\u001b[0m\n\u001b[0;32m    611\u001b[0m         \"\"\"\n\u001b[1;32m--> 612\u001b[1;33m         \u001b[0mX\u001b[0m\u001b[1;33m,\u001b[0m \u001b[0my\u001b[0m \u001b[1;33m=\u001b[0m \u001b[0mself\u001b[0m\u001b[1;33m.\u001b[0m\u001b[0m_check_X_y\u001b[0m\u001b[1;33m(\u001b[0m\u001b[0mX\u001b[0m\u001b[1;33m,\u001b[0m \u001b[0my\u001b[0m\u001b[1;33m)\u001b[0m\u001b[1;33m\u001b[0m\u001b[1;33m\u001b[0m\u001b[0m\n\u001b[0m\u001b[0;32m    613\u001b[0m         \u001b[0m_\u001b[0m\u001b[1;33m,\u001b[0m \u001b[0mn_features\u001b[0m \u001b[1;33m=\u001b[0m \u001b[0mX\u001b[0m\u001b[1;33m.\u001b[0m\u001b[0mshape\u001b[0m\u001b[1;33m\u001b[0m\u001b[1;33m\u001b[0m\u001b[0m\n\u001b[0;32m    614\u001b[0m         \u001b[0mself\u001b[0m\u001b[1;33m.\u001b[0m\u001b[0mn_features_\u001b[0m \u001b[1;33m=\u001b[0m \u001b[0mn_features\u001b[0m\u001b[1;33m\u001b[0m\u001b[1;33m\u001b[0m\u001b[0m\n",
      "\u001b[1;32m~\\anaconda3\\envs\\NLTK_env\\lib\\site-packages\\sklearn\\naive_bayes.py\u001b[0m in \u001b[0;36m_check_X_y\u001b[1;34m(self, X, y)\u001b[0m\n\u001b[0;32m   1222\u001b[0m         X, y = self._validate_data(X, y, dtype='int', accept_sparse=False,\n\u001b[0;32m   1223\u001b[0m                                    force_all_finite=True)\n\u001b[1;32m-> 1224\u001b[1;33m         \u001b[0mcheck_non_negative\u001b[0m\u001b[1;33m(\u001b[0m\u001b[0mX\u001b[0m\u001b[1;33m,\u001b[0m \u001b[1;34m\"CategoricalNB (input X)\"\u001b[0m\u001b[1;33m)\u001b[0m\u001b[1;33m\u001b[0m\u001b[1;33m\u001b[0m\u001b[0m\n\u001b[0m\u001b[0;32m   1225\u001b[0m         \u001b[1;32mreturn\u001b[0m \u001b[0mX\u001b[0m\u001b[1;33m,\u001b[0m \u001b[0my\u001b[0m\u001b[1;33m\u001b[0m\u001b[1;33m\u001b[0m\u001b[0m\n\u001b[0;32m   1226\u001b[0m \u001b[1;33m\u001b[0m\u001b[0m\n",
      "\u001b[1;32m~\\anaconda3\\envs\\NLTK_env\\lib\\site-packages\\sklearn\\utils\\validation.py\u001b[0m in \u001b[0;36mcheck_non_negative\u001b[1;34m(X, whom)\u001b[0m\n\u001b[0;32m   1066\u001b[0m \u001b[1;33m\u001b[0m\u001b[0m\n\u001b[0;32m   1067\u001b[0m     \u001b[1;32mif\u001b[0m \u001b[0mX_min\u001b[0m \u001b[1;33m<\u001b[0m \u001b[1;36m0\u001b[0m\u001b[1;33m:\u001b[0m\u001b[1;33m\u001b[0m\u001b[1;33m\u001b[0m\u001b[0m\n\u001b[1;32m-> 1068\u001b[1;33m         \u001b[1;32mraise\u001b[0m \u001b[0mValueError\u001b[0m\u001b[1;33m(\u001b[0m\u001b[1;34m\"Negative values in data passed to %s\"\u001b[0m \u001b[1;33m%\u001b[0m \u001b[0mwhom\u001b[0m\u001b[1;33m)\u001b[0m\u001b[1;33m\u001b[0m\u001b[1;33m\u001b[0m\u001b[0m\n\u001b[0m\u001b[0;32m   1069\u001b[0m \u001b[1;33m\u001b[0m\u001b[0m\n\u001b[0;32m   1070\u001b[0m \u001b[1;33m\u001b[0m\u001b[0m\n",
      "\u001b[1;31mValueError\u001b[0m: Negative values in data passed to CategoricalNB (input X)"
     ]
    }
   ],
   "source": [
    "#NAIVE BAYES\n",
    "#Initiate Naive Bayes classifer model\n",
    "naive_bayes = CategoricalNB()\n",
    "\n",
    "#Train Naive Bayes Classifer\n",
    "naive_bayes = naive_bayes.fit(X_train,y_train)"
   ]
  },
  {
   "source": [
    "Unfortunately, the Naive Bayes algorithm only results in a value error, stating that matrix X contain negative values. Due to time constraints, I was unable to solve this final bug. The code below indicates that all values are greater that 0."
   ],
   "cell_type": "markdown",
   "metadata": {}
  },
  {
   "cell_type": "code",
   "execution_count": 32,
   "metadata": {},
   "outputs": [
    {
     "output_type": "stream",
     "name": "stdout",
     "text": [
      "Boolean operation to check for negative values returns:  False\nSmallest values of each column are:  \n Open_nas           1.129820e+03\nHigh_nas           1.221600e+03\nLow_nas            1.108490e+03\nClose*_nas         1.172060e+03\nAdj Close**_nas    1.172060e+03\nVolume_nas         3.217730e+09\nOpen_snp           7.446900e+02\nHigh_snp           7.801200e+02\nLow_snp            6.997000e+02\nClose*_snp         7.008200e+02\nAdj Close**_snp    7.008200e+02\nVolume_snp         2.995610e+09\nOpen_oil           1.805000e+01\nHigh_oil           1.943000e+01\nLow_oil            1.780000e+01\nClose*_oil         1.800000e+01\nAdj Close**_oil    1.800000e+01\nVolume_oil         1.538280e+05\ndtype: float64\n"
     ]
    },
    {
     "output_type": "execute_result",
     "data": {
      "text/plain": [
       "numpy.float64"
      ]
     },
     "metadata": {},
     "execution_count": 32
    }
   ],
   "source": [
    "print('Boolean operation to check for negative values returns: ', (X_train < 0).values.any())\n",
    "print('Smallest values of each column are: ','\\n', X_train.min())\n",
    "type(X_train['Open_nas'].iloc[0])"
   ]
  },
  {
   "source": [
    "## Results/Discussion\n",
    "The sklearn module allows it to easily apply and experimentise with maschine algorithms. This comes with the disadvantage, however, that the person applying these algorithms does not need to be explicitly trained for doing so, which might lead to misinterpretations of the generated output or an underestimation of the algorithms' limitations.\n",
    "Overall, it can be said that the Random Forest algorithm achieved better results in both projects. \n",
    "As noted in the previous notebooks, the data wrangling before applying the machine-learning algorithms consumes most of the working time. "
   ],
   "cell_type": "markdown",
   "metadata": {}
  }
 ]
}